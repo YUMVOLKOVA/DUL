{
  "nbformat": 4,
  "nbformat_minor": 0,
  "metadata": {
    "colab": {
      "name": "Homework11_selfsupervised2.ipynb.txt",
      "provenance": [],
      "collapsed_sections": [],
      "include_colab_link": true
    },
    "kernelspec": {
      "name": "python3",
      "display_name": "Python 3"
    },
    "language_info": {
      "name": "python"
    },
    "widgets": {
      "application/vnd.jupyter.widget-state+json": {
        "41f7e6b92ff04cc29d4738f8b1200ef0": {
          "model_module": "@jupyter-widgets/controls",
          "model_name": "HBoxModel",
          "model_module_version": "1.5.0",
          "state": {
            "_view_name": "HBoxView",
            "_dom_classes": [],
            "_model_name": "HBoxModel",
            "_view_module": "@jupyter-widgets/controls",
            "_model_module_version": "1.5.0",
            "_view_count": null,
            "_view_module_version": "1.5.0",
            "box_style": "",
            "layout": "IPY_MODEL_2685198a1bf54033bc5ddf60d1c4f6ea",
            "_model_module": "@jupyter-widgets/controls",
            "children": [
              "IPY_MODEL_bb40cee15cbe440d815465b0f2c41e54",
              "IPY_MODEL_a623a8023f7c418099bad740a9bf18b0",
              "IPY_MODEL_ef0aee5669fa44d29e91975728e02d05"
            ]
          }
        },
        "2685198a1bf54033bc5ddf60d1c4f6ea": {
          "model_module": "@jupyter-widgets/base",
          "model_name": "LayoutModel",
          "model_module_version": "1.2.0",
          "state": {
            "_view_name": "LayoutView",
            "grid_template_rows": null,
            "right": null,
            "justify_content": null,
            "_view_module": "@jupyter-widgets/base",
            "overflow": null,
            "_model_module_version": "1.2.0",
            "_view_count": null,
            "flex_flow": null,
            "width": null,
            "min_width": null,
            "border": null,
            "align_items": null,
            "bottom": null,
            "_model_module": "@jupyter-widgets/base",
            "top": null,
            "grid_column": null,
            "overflow_y": null,
            "overflow_x": null,
            "grid_auto_flow": null,
            "grid_area": null,
            "grid_template_columns": null,
            "flex": null,
            "_model_name": "LayoutModel",
            "justify_items": null,
            "grid_row": null,
            "max_height": null,
            "align_content": null,
            "visibility": null,
            "align_self": null,
            "height": null,
            "min_height": null,
            "padding": null,
            "grid_auto_rows": null,
            "grid_gap": null,
            "max_width": null,
            "order": null,
            "_view_module_version": "1.2.0",
            "grid_template_areas": null,
            "object_position": null,
            "object_fit": null,
            "grid_auto_columns": null,
            "margin": null,
            "display": null,
            "left": null
          }
        },
        "bb40cee15cbe440d815465b0f2c41e54": {
          "model_module": "@jupyter-widgets/controls",
          "model_name": "HTMLModel",
          "model_module_version": "1.5.0",
          "state": {
            "_view_name": "HTMLView",
            "style": "IPY_MODEL_2c8f4d423a3343ef97c8cd8259a53973",
            "_dom_classes": [],
            "description": "",
            "_model_name": "HTMLModel",
            "placeholder": "​",
            "_view_module": "@jupyter-widgets/controls",
            "_model_module_version": "1.5.0",
            "value": "100%",
            "_view_count": null,
            "_view_module_version": "1.5.0",
            "description_tooltip": null,
            "_model_module": "@jupyter-widgets/controls",
            "layout": "IPY_MODEL_9142eccd31c445b6acd6ebbb3e356c4d"
          }
        },
        "a623a8023f7c418099bad740a9bf18b0": {
          "model_module": "@jupyter-widgets/controls",
          "model_name": "FloatProgressModel",
          "model_module_version": "1.5.0",
          "state": {
            "_view_name": "ProgressView",
            "style": "IPY_MODEL_0cc7d909f8144cdda78357668a99a3d8",
            "_dom_classes": [],
            "description": "",
            "_model_name": "FloatProgressModel",
            "bar_style": "success",
            "max": 20,
            "_view_module": "@jupyter-widgets/controls",
            "_model_module_version": "1.5.0",
            "value": 20,
            "_view_count": null,
            "_view_module_version": "1.5.0",
            "orientation": "horizontal",
            "min": 0,
            "description_tooltip": null,
            "_model_module": "@jupyter-widgets/controls",
            "layout": "IPY_MODEL_1ad619e33f674c15ac499b6e361f9803"
          }
        },
        "ef0aee5669fa44d29e91975728e02d05": {
          "model_module": "@jupyter-widgets/controls",
          "model_name": "HTMLModel",
          "model_module_version": "1.5.0",
          "state": {
            "_view_name": "HTMLView",
            "style": "IPY_MODEL_2f2892fbe5eb4822979f9f966c665094",
            "_dom_classes": [],
            "description": "",
            "_model_name": "HTMLModel",
            "placeholder": "​",
            "_view_module": "@jupyter-widgets/controls",
            "_model_module_version": "1.5.0",
            "value": " 20/20 [55:55&lt;00:00, 167.50s/it]",
            "_view_count": null,
            "_view_module_version": "1.5.0",
            "description_tooltip": null,
            "_model_module": "@jupyter-widgets/controls",
            "layout": "IPY_MODEL_03833866a7e245ccb1233344d53be40d"
          }
        },
        "2c8f4d423a3343ef97c8cd8259a53973": {
          "model_module": "@jupyter-widgets/controls",
          "model_name": "DescriptionStyleModel",
          "model_module_version": "1.5.0",
          "state": {
            "_view_name": "StyleView",
            "_model_name": "DescriptionStyleModel",
            "description_width": "",
            "_view_module": "@jupyter-widgets/base",
            "_model_module_version": "1.5.0",
            "_view_count": null,
            "_view_module_version": "1.2.0",
            "_model_module": "@jupyter-widgets/controls"
          }
        },
        "9142eccd31c445b6acd6ebbb3e356c4d": {
          "model_module": "@jupyter-widgets/base",
          "model_name": "LayoutModel",
          "model_module_version": "1.2.0",
          "state": {
            "_view_name": "LayoutView",
            "grid_template_rows": null,
            "right": null,
            "justify_content": null,
            "_view_module": "@jupyter-widgets/base",
            "overflow": null,
            "_model_module_version": "1.2.0",
            "_view_count": null,
            "flex_flow": null,
            "width": null,
            "min_width": null,
            "border": null,
            "align_items": null,
            "bottom": null,
            "_model_module": "@jupyter-widgets/base",
            "top": null,
            "grid_column": null,
            "overflow_y": null,
            "overflow_x": null,
            "grid_auto_flow": null,
            "grid_area": null,
            "grid_template_columns": null,
            "flex": null,
            "_model_name": "LayoutModel",
            "justify_items": null,
            "grid_row": null,
            "max_height": null,
            "align_content": null,
            "visibility": null,
            "align_self": null,
            "height": null,
            "min_height": null,
            "padding": null,
            "grid_auto_rows": null,
            "grid_gap": null,
            "max_width": null,
            "order": null,
            "_view_module_version": "1.2.0",
            "grid_template_areas": null,
            "object_position": null,
            "object_fit": null,
            "grid_auto_columns": null,
            "margin": null,
            "display": null,
            "left": null
          }
        },
        "0cc7d909f8144cdda78357668a99a3d8": {
          "model_module": "@jupyter-widgets/controls",
          "model_name": "ProgressStyleModel",
          "model_module_version": "1.5.0",
          "state": {
            "_view_name": "StyleView",
            "_model_name": "ProgressStyleModel",
            "description_width": "",
            "_view_module": "@jupyter-widgets/base",
            "_model_module_version": "1.5.0",
            "_view_count": null,
            "_view_module_version": "1.2.0",
            "bar_color": null,
            "_model_module": "@jupyter-widgets/controls"
          }
        },
        "1ad619e33f674c15ac499b6e361f9803": {
          "model_module": "@jupyter-widgets/base",
          "model_name": "LayoutModel",
          "model_module_version": "1.2.0",
          "state": {
            "_view_name": "LayoutView",
            "grid_template_rows": null,
            "right": null,
            "justify_content": null,
            "_view_module": "@jupyter-widgets/base",
            "overflow": null,
            "_model_module_version": "1.2.0",
            "_view_count": null,
            "flex_flow": null,
            "width": null,
            "min_width": null,
            "border": null,
            "align_items": null,
            "bottom": null,
            "_model_module": "@jupyter-widgets/base",
            "top": null,
            "grid_column": null,
            "overflow_y": null,
            "overflow_x": null,
            "grid_auto_flow": null,
            "grid_area": null,
            "grid_template_columns": null,
            "flex": null,
            "_model_name": "LayoutModel",
            "justify_items": null,
            "grid_row": null,
            "max_height": null,
            "align_content": null,
            "visibility": null,
            "align_self": null,
            "height": null,
            "min_height": null,
            "padding": null,
            "grid_auto_rows": null,
            "grid_gap": null,
            "max_width": null,
            "order": null,
            "_view_module_version": "1.2.0",
            "grid_template_areas": null,
            "object_position": null,
            "object_fit": null,
            "grid_auto_columns": null,
            "margin": null,
            "display": null,
            "left": null
          }
        },
        "2f2892fbe5eb4822979f9f966c665094": {
          "model_module": "@jupyter-widgets/controls",
          "model_name": "DescriptionStyleModel",
          "model_module_version": "1.5.0",
          "state": {
            "_view_name": "StyleView",
            "_model_name": "DescriptionStyleModel",
            "description_width": "",
            "_view_module": "@jupyter-widgets/base",
            "_model_module_version": "1.5.0",
            "_view_count": null,
            "_view_module_version": "1.2.0",
            "_model_module": "@jupyter-widgets/controls"
          }
        },
        "03833866a7e245ccb1233344d53be40d": {
          "model_module": "@jupyter-widgets/base",
          "model_name": "LayoutModel",
          "model_module_version": "1.2.0",
          "state": {
            "_view_name": "LayoutView",
            "grid_template_rows": null,
            "right": null,
            "justify_content": null,
            "_view_module": "@jupyter-widgets/base",
            "overflow": null,
            "_model_module_version": "1.2.0",
            "_view_count": null,
            "flex_flow": null,
            "width": null,
            "min_width": null,
            "border": null,
            "align_items": null,
            "bottom": null,
            "_model_module": "@jupyter-widgets/base",
            "top": null,
            "grid_column": null,
            "overflow_y": null,
            "overflow_x": null,
            "grid_auto_flow": null,
            "grid_area": null,
            "grid_template_columns": null,
            "flex": null,
            "_model_name": "LayoutModel",
            "justify_items": null,
            "grid_row": null,
            "max_height": null,
            "align_content": null,
            "visibility": null,
            "align_self": null,
            "height": null,
            "min_height": null,
            "padding": null,
            "grid_auto_rows": null,
            "grid_gap": null,
            "max_width": null,
            "order": null,
            "_view_module_version": "1.2.0",
            "grid_template_areas": null,
            "object_position": null,
            "object_fit": null,
            "grid_auto_columns": null,
            "margin": null,
            "display": null,
            "left": null
          }
        },
        "c074b8ffccac436b855514152f3a1ad6": {
          "model_module": "@jupyter-widgets/controls",
          "model_name": "HBoxModel",
          "model_module_version": "1.5.0",
          "state": {
            "_view_name": "HBoxView",
            "_dom_classes": [],
            "_model_name": "HBoxModel",
            "_view_module": "@jupyter-widgets/controls",
            "_model_module_version": "1.5.0",
            "_view_count": null,
            "_view_module_version": "1.5.0",
            "box_style": "",
            "layout": "IPY_MODEL_e216ceb7587f4ab1a63916f40490af96",
            "_model_module": "@jupyter-widgets/controls",
            "children": [
              "IPY_MODEL_6b411b6ace814bed8279410d1917bc81",
              "IPY_MODEL_97877d3eb4114314867307764b5a98bc",
              "IPY_MODEL_eae6784f05a8446998f36847dcea1ea1"
            ]
          }
        },
        "e216ceb7587f4ab1a63916f40490af96": {
          "model_module": "@jupyter-widgets/base",
          "model_name": "LayoutModel",
          "model_module_version": "1.2.0",
          "state": {
            "_view_name": "LayoutView",
            "grid_template_rows": null,
            "right": null,
            "justify_content": null,
            "_view_module": "@jupyter-widgets/base",
            "overflow": null,
            "_model_module_version": "1.2.0",
            "_view_count": null,
            "flex_flow": null,
            "width": null,
            "min_width": null,
            "border": null,
            "align_items": null,
            "bottom": null,
            "_model_module": "@jupyter-widgets/base",
            "top": null,
            "grid_column": null,
            "overflow_y": null,
            "overflow_x": null,
            "grid_auto_flow": null,
            "grid_area": null,
            "grid_template_columns": null,
            "flex": null,
            "_model_name": "LayoutModel",
            "justify_items": null,
            "grid_row": null,
            "max_height": null,
            "align_content": null,
            "visibility": null,
            "align_self": null,
            "height": null,
            "min_height": null,
            "padding": null,
            "grid_auto_rows": null,
            "grid_gap": null,
            "max_width": null,
            "order": null,
            "_view_module_version": "1.2.0",
            "grid_template_areas": null,
            "object_position": null,
            "object_fit": null,
            "grid_auto_columns": null,
            "margin": null,
            "display": null,
            "left": null
          }
        },
        "6b411b6ace814bed8279410d1917bc81": {
          "model_module": "@jupyter-widgets/controls",
          "model_name": "HTMLModel",
          "model_module_version": "1.5.0",
          "state": {
            "_view_name": "HTMLView",
            "style": "IPY_MODEL_d9bdcb30b5bb4ce991c6b28274a28dbf",
            "_dom_classes": [],
            "description": "",
            "_model_name": "HTMLModel",
            "placeholder": "​",
            "_view_module": "@jupyter-widgets/controls",
            "_model_module_version": "1.5.0",
            "value": "  0%",
            "_view_count": null,
            "_view_module_version": "1.5.0",
            "description_tooltip": null,
            "_model_module": "@jupyter-widgets/controls",
            "layout": "IPY_MODEL_acd4915803ae4c10a645e4fbba7c3449"
          }
        },
        "97877d3eb4114314867307764b5a98bc": {
          "model_module": "@jupyter-widgets/controls",
          "model_name": "FloatProgressModel",
          "model_module_version": "1.5.0",
          "state": {
            "_view_name": "ProgressView",
            "style": "IPY_MODEL_7a4f200da861494bb9a51f905abe8fb0",
            "_dom_classes": [],
            "description": "",
            "_model_name": "FloatProgressModel",
            "bar_style": "",
            "max": 20,
            "_view_module": "@jupyter-widgets/controls",
            "_model_module_version": "1.5.0",
            "value": 0,
            "_view_count": null,
            "_view_module_version": "1.5.0",
            "orientation": "horizontal",
            "min": 0,
            "description_tooltip": null,
            "_model_module": "@jupyter-widgets/controls",
            "layout": "IPY_MODEL_9e5f2c4f563345408f4b60e4a65935dd"
          }
        },
        "eae6784f05a8446998f36847dcea1ea1": {
          "model_module": "@jupyter-widgets/controls",
          "model_name": "HTMLModel",
          "model_module_version": "1.5.0",
          "state": {
            "_view_name": "HTMLView",
            "style": "IPY_MODEL_fbc6248fdbf84566b72c17559064c1e7",
            "_dom_classes": [],
            "description": "",
            "_model_name": "HTMLModel",
            "placeholder": "​",
            "_view_module": "@jupyter-widgets/controls",
            "_model_module_version": "1.5.0",
            "value": " 0/20 [00:00&lt;?, ?it/s]",
            "_view_count": null,
            "_view_module_version": "1.5.0",
            "description_tooltip": null,
            "_model_module": "@jupyter-widgets/controls",
            "layout": "IPY_MODEL_34b7e04379284083b2edcc9d0c0b2547"
          }
        },
        "d9bdcb30b5bb4ce991c6b28274a28dbf": {
          "model_module": "@jupyter-widgets/controls",
          "model_name": "DescriptionStyleModel",
          "model_module_version": "1.5.0",
          "state": {
            "_view_name": "StyleView",
            "_model_name": "DescriptionStyleModel",
            "description_width": "",
            "_view_module": "@jupyter-widgets/base",
            "_model_module_version": "1.5.0",
            "_view_count": null,
            "_view_module_version": "1.2.0",
            "_model_module": "@jupyter-widgets/controls"
          }
        },
        "acd4915803ae4c10a645e4fbba7c3449": {
          "model_module": "@jupyter-widgets/base",
          "model_name": "LayoutModel",
          "model_module_version": "1.2.0",
          "state": {
            "_view_name": "LayoutView",
            "grid_template_rows": null,
            "right": null,
            "justify_content": null,
            "_view_module": "@jupyter-widgets/base",
            "overflow": null,
            "_model_module_version": "1.2.0",
            "_view_count": null,
            "flex_flow": null,
            "width": null,
            "min_width": null,
            "border": null,
            "align_items": null,
            "bottom": null,
            "_model_module": "@jupyter-widgets/base",
            "top": null,
            "grid_column": null,
            "overflow_y": null,
            "overflow_x": null,
            "grid_auto_flow": null,
            "grid_area": null,
            "grid_template_columns": null,
            "flex": null,
            "_model_name": "LayoutModel",
            "justify_items": null,
            "grid_row": null,
            "max_height": null,
            "align_content": null,
            "visibility": null,
            "align_self": null,
            "height": null,
            "min_height": null,
            "padding": null,
            "grid_auto_rows": null,
            "grid_gap": null,
            "max_width": null,
            "order": null,
            "_view_module_version": "1.2.0",
            "grid_template_areas": null,
            "object_position": null,
            "object_fit": null,
            "grid_auto_columns": null,
            "margin": null,
            "display": null,
            "left": null
          }
        },
        "7a4f200da861494bb9a51f905abe8fb0": {
          "model_module": "@jupyter-widgets/controls",
          "model_name": "ProgressStyleModel",
          "model_module_version": "1.5.0",
          "state": {
            "_view_name": "StyleView",
            "_model_name": "ProgressStyleModel",
            "description_width": "",
            "_view_module": "@jupyter-widgets/base",
            "_model_module_version": "1.5.0",
            "_view_count": null,
            "_view_module_version": "1.2.0",
            "bar_color": null,
            "_model_module": "@jupyter-widgets/controls"
          }
        },
        "9e5f2c4f563345408f4b60e4a65935dd": {
          "model_module": "@jupyter-widgets/base",
          "model_name": "LayoutModel",
          "model_module_version": "1.2.0",
          "state": {
            "_view_name": "LayoutView",
            "grid_template_rows": null,
            "right": null,
            "justify_content": null,
            "_view_module": "@jupyter-widgets/base",
            "overflow": null,
            "_model_module_version": "1.2.0",
            "_view_count": null,
            "flex_flow": null,
            "width": null,
            "min_width": null,
            "border": null,
            "align_items": null,
            "bottom": null,
            "_model_module": "@jupyter-widgets/base",
            "top": null,
            "grid_column": null,
            "overflow_y": null,
            "overflow_x": null,
            "grid_auto_flow": null,
            "grid_area": null,
            "grid_template_columns": null,
            "flex": null,
            "_model_name": "LayoutModel",
            "justify_items": null,
            "grid_row": null,
            "max_height": null,
            "align_content": null,
            "visibility": null,
            "align_self": null,
            "height": null,
            "min_height": null,
            "padding": null,
            "grid_auto_rows": null,
            "grid_gap": null,
            "max_width": null,
            "order": null,
            "_view_module_version": "1.2.0",
            "grid_template_areas": null,
            "object_position": null,
            "object_fit": null,
            "grid_auto_columns": null,
            "margin": null,
            "display": null,
            "left": null
          }
        },
        "fbc6248fdbf84566b72c17559064c1e7": {
          "model_module": "@jupyter-widgets/controls",
          "model_name": "DescriptionStyleModel",
          "model_module_version": "1.5.0",
          "state": {
            "_view_name": "StyleView",
            "_model_name": "DescriptionStyleModel",
            "description_width": "",
            "_view_module": "@jupyter-widgets/base",
            "_model_module_version": "1.5.0",
            "_view_count": null,
            "_view_module_version": "1.2.0",
            "_model_module": "@jupyter-widgets/controls"
          }
        },
        "34b7e04379284083b2edcc9d0c0b2547": {
          "model_module": "@jupyter-widgets/base",
          "model_name": "LayoutModel",
          "model_module_version": "1.2.0",
          "state": {
            "_view_name": "LayoutView",
            "grid_template_rows": null,
            "right": null,
            "justify_content": null,
            "_view_module": "@jupyter-widgets/base",
            "overflow": null,
            "_model_module_version": "1.2.0",
            "_view_count": null,
            "flex_flow": null,
            "width": null,
            "min_width": null,
            "border": null,
            "align_items": null,
            "bottom": null,
            "_model_module": "@jupyter-widgets/base",
            "top": null,
            "grid_column": null,
            "overflow_y": null,
            "overflow_x": null,
            "grid_auto_flow": null,
            "grid_area": null,
            "grid_template_columns": null,
            "flex": null,
            "_model_name": "LayoutModel",
            "justify_items": null,
            "grid_row": null,
            "max_height": null,
            "align_content": null,
            "visibility": null,
            "align_self": null,
            "height": null,
            "min_height": null,
            "padding": null,
            "grid_auto_rows": null,
            "grid_gap": null,
            "max_width": null,
            "order": null,
            "_view_module_version": "1.2.0",
            "grid_template_areas": null,
            "object_position": null,
            "object_fit": null,
            "grid_auto_columns": null,
            "margin": null,
            "display": null,
            "left": null
          }
        }
      }
    }
  },
  "cells": [
    {
      "cell_type": "markdown",
      "metadata": {
        "id": "view-in-github",
        "colab_type": "text"
      },
      "source": [
        "<a href=\"https://colab.research.google.com/github/YUMVOLKOVA/dul_2021/blob/main/hw11/Homework11_selfsupervised2.ipynb\" target=\"_parent\"><img src=\"https://colab.research.google.com/assets/colab-badge.svg\" alt=\"Open In Colab\"/></a>"
      ]
    },
    {
      "cell_type": "code",
      "source": [
        "!if [ -d dul_2021 ]; then rm -Rf dul_2021; fi\n",
        "!git clone https://github.com/GrigoryBartosh/dul_2021\n",
        "!pip install ./dul_2021"
      ],
      "metadata": {
        "colab": {
          "base_uri": "https://localhost:8080/"
        },
        "id": "4dRz5SIFKfZD",
        "outputId": "6087a2b8-b76a-49f8-f3fd-84215114041d"
      },
      "execution_count": 10,
      "outputs": [
        {
          "output_type": "stream",
          "name": "stdout",
          "text": [
            "Cloning into 'dul_2021'...\n",
            "remote: Enumerating objects: 361, done.\u001b[K\n",
            "remote: Counting objects: 100% (198/198), done.\u001b[K\n",
            "remote: Compressing objects: 100% (127/127), done.\u001b[K\n",
            "remote: Total 361 (delta 112), reused 93 (delta 65), pack-reused 163\u001b[K\n",
            "Receiving objects: 100% (361/361), 55.77 MiB | 31.75 MiB/s, done.\n",
            "Resolving deltas: 100% (169/169), done.\n",
            "Processing ./dul_2021\n",
            "\u001b[33m  DEPRECATION: A future pip version will change local packages to be built in-place without first copying to a temporary directory. We recommend you use --use-feature=in-tree-build to test your packages with this new behavior before it becomes the default.\n",
            "   pip 21.3 will remove support for this functionality. You can find discussion regarding this at https://github.com/pypa/pip/issues/7555.\u001b[0m\n",
            "Building wheels for collected packages: dul-2021\n",
            "  Building wheel for dul-2021 (setup.py) ... \u001b[?25l\u001b[?25hdone\n",
            "  Created wheel for dul-2021: filename=dul_2021-0.1.0-py3-none-any.whl size=26856 sha256=67245cd42aa032cfde26d7b37464c578e1aa67518ca17f0b05e2a7406e11371a\n",
            "  Stored in directory: /tmp/pip-ephem-wheel-cache-ghizfiob/wheels/55/59/29/0fb1c635652157734f4d741f32fc11979149684e83e919de06\n",
            "Successfully built dul-2021\n",
            "Installing collected packages: dul-2021\n",
            "  Attempting uninstall: dul-2021\n",
            "    Found existing installation: dul-2021 0.1.0\n",
            "    Uninstalling dul-2021-0.1.0:\n",
            "      Successfully uninstalled dul-2021-0.1.0\n",
            "Successfully installed dul-2021-0.1.0\n"
          ]
        }
      ]
    },
    {
      "cell_type": "code",
      "source": [
        "from dul_2021.utils.hw11_utils import *"
      ],
      "metadata": {
        "id": "KjY-iIy5MSZb"
      },
      "execution_count": 11,
      "outputs": []
    },
    {
      "cell_type": "markdown",
      "source": [
        "# Question 1. BYOL\n",
        "\n",
        "Here we will implement [BYOL](https://arxiv.org/abs/2006.07733).\n",
        "\n",
        "* You can combine view, representation, and projection into one network. You can use same architechure as in practice. \n",
        "\n",
        "* Use BatchNorm\n",
        "\n",
        "* As predictor use few linear layers\n",
        "\n",
        "* Dataset comes untransformed, so you need to apply transformations during training by yourself. Use same augmentations as in SimCLR\n",
        "\n",
        "**Hyperparameters**\n",
        "\n",
        "* τ = 0.99 (target update coefficient)\n",
        "* lr = 1e-4\n",
        "* num_epochs = 20\n",
        "* latent dim = 128\n",
        "\n",
        "\n",
        "\n",
        "**You will provide the following deliverables**\n",
        "\n",
        "\n",
        "1. Over the course of training, record loss ber batch.\n",
        "2. A function that encodes a batch of images with your trained model. The function recieves a batch torch tensors on cpu and should return transformed 2d tensor (batch size x laten dim). It will be used to test representation on classification task."
      ],
      "metadata": {
        "id": "t7J5FgOHW6Z-"
      }
    },
    {
      "cell_type": "code",
      "source": [
        "import torch\n",
        "import torch.nn as nn\n",
        "import torch.nn.functional as F\n",
        "from torch.utils.data import Dataset, DataLoader\n",
        "import torch.utils.data as data\n",
        "import torch.optim as opt\n",
        "import numpy as np\n",
        "from copy import deepcopy\n",
        "from torch.optim import Adam\n",
        "import torchvision\n",
        "from torchvision import transforms\n",
        "\n",
        "from tqdm.notebook import tqdm\n",
        "device = torch.device(\"cuda\" if torch.cuda.is_available() else \"cpu\")"
      ],
      "metadata": {
        "id": "TqLy9LZxtFXR"
      },
      "execution_count": 12,
      "outputs": []
    },
    {
      "cell_type": "code",
      "source": [
        "params = {'tuc': 0.99,\n",
        "          'lr': 1e-4,\n",
        "          'num_epochs': 20,\n",
        "          'latent_dim': 128,\n",
        "          'batch_size': 256}"
      ],
      "metadata": {
        "id": "1exik-z6piIS"
      },
      "execution_count": 45,
      "outputs": []
    },
    {
      "cell_type": "code",
      "source": [
        "class Net(nn.Module):\n",
        "    def __init__(self, in_dim, out_dim, hid_dim_full, conv_to_fc = 7 * 7 * 4):\n",
        "        super(Net, self).__init__()\n",
        "\n",
        "        self.in_dim = in_dim\n",
        "        self.out_dim = out_dim\n",
        "        self.hid_dim_full = hid_dim_full\n",
        "        self.conv_to_fc = conv_to_fc\n",
        "\n",
        "        self.conv1 = nn.Conv2d(in_dim, 16, 5, padding=2)\n",
        "        self.conv2 = nn.Conv2d(16, 16, 3, padding=1, stride=2)\n",
        "        self.conv3 = nn.Conv2d(16, 32, 5, padding=2)\n",
        "        self.conv4 = nn.Conv2d(32, 32, 3, padding=1, stride=2)\n",
        "        self.conv5 = nn.Conv2d(32, 32, 1)\n",
        "        self.conv6 = nn.Conv2d(32, 4, 1)\n",
        "        self.bn1 = nn.BatchNorm2d(16)\n",
        "        self.bn2 = nn.BatchNorm2d(16)\n",
        "        self.bn3 = nn.BatchNorm2d(32)\n",
        "        self.bn4 = nn.BatchNorm2d(32)\n",
        "        self.bn5 = nn.BatchNorm2d(32)\n",
        "        self.bn6 = nn.BatchNorm2d(4)\n",
        "\n",
        "        self.fc1 = nn.Linear(self.conv_to_fc, self.hid_dim_full)\n",
        "        self.fc2 = nn.Linear(self.hid_dim_full, int(self.hid_dim_full // 2))\n",
        "\n",
        "        self.features = nn.Linear(int(self.hid_dim_full // 2), self.out_dim)\n",
        "\n",
        "\n",
        "    def forward(self, x):\n",
        "    \n",
        "        x = F.relu(self.bn1(self.conv1(x)))\n",
        "        x = F.relu(self.bn2(self.conv2(x)))\n",
        "        x = F.relu(self.bn3(self.conv3(x)))\n",
        "        x = F.relu(self.bn4(self.conv4(x)))\n",
        "        x = F.relu(self.bn5(self.conv5(x)))\n",
        "        x = F.relu(self.bn6(self.conv6(x)))\n",
        "\n",
        "        x = x.view(-1, self.conv_to_fc)\n",
        "        x = F.relu(self.fc1(x))\n",
        "        x = F.relu(self.fc2(x))\n",
        "\n",
        "        features = self.features(x)\n",
        "\n",
        "        return features"
      ],
      "metadata": {
        "id": "8U8Nl8Y6pzhR"
      },
      "execution_count": 13,
      "outputs": []
    },
    {
      "cell_type": "code",
      "source": [
        "class BYOL(nn.Module):\n",
        "  def __init__(self, in_dim, out_dim, hid_dim_full):\n",
        "    super().__init__()\n",
        "    self.in_dim = in_dim\n",
        "    self.out_dim = out_dim\n",
        "    self.hid_dim_full = hid_dim_full\n",
        "    self.student = Net(self.in_dim, self.out_dim, self.hid_dim_full)\n",
        "    self.teacher = deepcopy(self.student)\n",
        "    self.teacher.requires_grad_(False)\n",
        "\n",
        "    self.predictor = nn.Sequential(nn.Linear(self.out_dim, self.hid_dim_full),\n",
        "                                    nn.ReLU(),\n",
        "                                    nn.Linear(self.hid_dim_full, self.hid_dim_full),\n",
        "                                    nn.BatchNorm1d(self.hid_dim_full), \n",
        "                                    nn.ReLU(),\n",
        "                                    nn.Linear(self.hid_dim_full, self.out_dim))\n",
        "    self.transformation = transforms.Compose([transforms.RandomHorizontalFlip(),\n",
        "                                          transforms.RandomResizedCrop(28),\n",
        "                                          transforms.GaussianBlur(9),\n",
        "                                          transforms.Normalize(0.5, 0.5)])\n",
        "  \n",
        "  def get_similarity(self, first_data, second_data):\n",
        "    enc_student = self.student(first_data)\n",
        "    enc_teacher = self.teacher(second_data)\n",
        "    predict_student = self.predictor(enc_student)\n",
        "    norm_predict_student = F.normalize(predict_student)\n",
        "    norm_enc_teacher = F.normalize(enc_teacher)    \n",
        "    similarity = F.mse_loss(norm_predict_student, norm_enc_teacher)\n",
        "    return similarity \n",
        "\n",
        "  def fit(self, train_data, num_epochs, lr, tuc):\n",
        "    params_student = list(self.student.parameters())\n",
        "    params_predict = list(self.predictor.parameters())\n",
        "    optimizer = Adam(params_student + params_predict, lr=lr)\n",
        "\n",
        "    loss = []\n",
        "\n",
        "    for i in tqdm(range(num_epochs)):\n",
        "      for batch in train_data:\n",
        "        batch = batch[0].to(device)\n",
        "\n",
        "        batch_for_student = self.transformation(batch)\n",
        "        batch_for_teacher = self.transformation(batch)\n",
        "        first_similarity = self.get_similarity(batch_for_student, batch_for_teacher)\n",
        "        second_similarity = self.get_similarity(batch_for_teacher, batch_for_student)\n",
        "        current_loss = first_similarity + second_similarity\n",
        "        current_loss = current_loss.mean()\n",
        "\n",
        "        optimizer.zero_grad()\n",
        "        current_loss.backward()\n",
        "        optimizer.step()\n",
        "\n",
        "        with torch.no_grad():\n",
        "          for i, j in zip(self.student.parameters(), self.teacher.parameters()):\n",
        "            j.data.copy_(tuc * j.data + (1 - tuc) * i.data)\n",
        "\n",
        "        loss.append(current_loss.item())\n",
        "    loss = np.array(loss)\n",
        "    return loss\n",
        "\n",
        "  def encode(self, data):\n",
        "    with torch.no_grad():\n",
        "      self.student.eval()\n",
        "      out = self.student(data.to(device))\n",
        "      self.student.train()\n",
        "    return out\n"
      ],
      "metadata": {
        "id": "Kl83MQ49sn6R"
      },
      "execution_count": 47,
      "outputs": []
    },
    {
      "cell_type": "code",
      "source": [
        "def q1(train_data):\n",
        "    \"\"\"\n",
        "    train_data: An (n_train, 1, 28, 28) torchvision dataset of MNIST images with values from -1 to 1\n",
        "\n",
        "    Returns\n",
        "    - a (# of training iterations, ) numpy array  losses on each iteration\n",
        "    - a function that transforms batch of images into their latent representation\n",
        "    \"\"\"\n",
        "    train = DataLoader(train_data, \n",
        "                       batch_size=params['batch_size'],\n",
        "                       shuffle=True)    \n",
        "\n",
        "    model_BYOL = BYOL(in_dim=1, \n",
        "                      out_dim=params['latent_dim'], \n",
        "                      hid_dim_full=params['latent_dim'])\n",
        "    model_BYOL = model_BYOL.to(device)\n",
        "    print('done with init')\n",
        "\n",
        "    loss = model_BYOL.fit(train,\n",
        "                          num_epochs=params['num_epochs'],\n",
        "                          lr=params['lr'],\n",
        "                          tuc=params['tuc'])  \n",
        "    print('done with losses')  \n",
        "    encode_out = model_BYOL.encode\n",
        "    print('done with encode')\n",
        "    return loss, encode_out\n",
        "    "
      ],
      "metadata": {
        "id": "Og9Fv7sV6nrO"
      },
      "execution_count": 49,
      "outputs": []
    },
    {
      "cell_type": "code",
      "source": [
        "# change flag to False if you want only to test your losses w/o accuracy (it takes around 4-5 minutes)\n",
        "q1_results(q1, True)"
      ],
      "metadata": {
        "colab": {
          "base_uri": "https://localhost:8080/",
          "height": 400,
          "referenced_widgets": [
            "41f7e6b92ff04cc29d4738f8b1200ef0",
            "2685198a1bf54033bc5ddf60d1c4f6ea",
            "bb40cee15cbe440d815465b0f2c41e54",
            "a623a8023f7c418099bad740a9bf18b0",
            "ef0aee5669fa44d29e91975728e02d05",
            "2c8f4d423a3343ef97c8cd8259a53973",
            "9142eccd31c445b6acd6ebbb3e356c4d",
            "0cc7d909f8144cdda78357668a99a3d8",
            "1ad619e33f674c15ac499b6e361f9803",
            "2f2892fbe5eb4822979f9f966c665094",
            "03833866a7e245ccb1233344d53be40d"
          ]
        },
        "id": "3Ib0ne2mX80s",
        "outputId": "1ed08fe9-cb9d-45c6-f568-0bcd4ba6086c"
      },
      "execution_count": 50,
      "outputs": [
        {
          "metadata": {
            "tags": null
          },
          "name": "stdout",
          "output_type": "stream",
          "text": [
            "done with init\n"
          ]
        },
        {
          "data": {
            "application/vnd.jupyter.widget-view+json": {
              "model_id": "41f7e6b92ff04cc29d4738f8b1200ef0",
              "version_major": 2,
              "version_minor": 0
            },
            "text/plain": [
              "  0%|          | 0/20 [00:00<?, ?it/s]"
            ]
          },
          "metadata": {},
          "output_type": "display_data"
        },
        {
          "output_type": "stream",
          "name": "stdout",
          "text": [
            "done with losses\n",
            "done with encode\n",
            "mean classification accuracy=0.6496\n"
          ]
        },
        {
          "output_type": "display_data",
          "data": {
            "image/png": "[encoded data removed]",
            "text/plain": [
              "<Figure size 432x288 with 1 Axes>"
            ]
          },
          "metadata": {
            "needs_background": "light"
          }
        }
      ]
    },
    {
      "cell_type": "code",
      "source": [
        "# q1_results(q1, False)"
      ],
      "metadata": {
        "id": "hyjVgSxqX6qC"
      },
      "execution_count": null,
      "outputs": []
    },
    {
      "cell_type": "markdown",
      "source": [
        "# Question 2. Barlow Twins\n",
        "\n",
        "Here we will implement [barlow twins](https://arxiv.org/abs/2103.03230).\n",
        "\n",
        "* You can use same architechure as in practice. \n",
        "\n",
        "* Dataset comes untransformed, so you need to apply transformations during training by yourself. Use same augmentations as in SimCLR\n",
        "\n",
        "**Hyperparameters**\n",
        "\n",
        "* λ = 0.01 \n",
        "* lr = 5e-4\n",
        "* num_epochs = 20\n",
        "* latent dim = 128\n",
        "\n",
        "\n",
        "\n",
        "**You will provide the following deliverables**\n",
        "\n",
        "\n",
        "1. Over the course of training, record loss ber batch.\n",
        "2. A function that encodes a batch of images with your trained model. The function recieves a batch torch tensors on cpu and should return transformed 2d tensor (batch size x laten dim). It will be used to test representation on classification task."
      ],
      "metadata": {
        "id": "hlbaIthyMGab"
      }
    },
    {
      "cell_type": "code",
      "source": [
        "params = {'lambda': 0.01,\n",
        "          'lr': 5e-4,\n",
        "          'num_epochs': 20,\n",
        "          'latent_dim': 128,\n",
        "          'batch_size': 256}"
      ],
      "metadata": {
        "id": "0p02pmkev2Ya"
      },
      "execution_count": 14,
      "outputs": []
    },
    {
      "cell_type": "code",
      "source": [
        "class Barlow_Twins(nn.Module):\n",
        "  def __init__(self, latent_dim, lambd):\n",
        "    super().__init__()\n",
        "    self.latent_dim = latent_dim\n",
        "    self.lambd = lambd\n",
        "    self.model = Net(in_dim=3, \n",
        "                    out_dim=self.latent_dim, \n",
        "                    hid_dim_full=self.latent_dim)\n",
        "    self.transformation = transforms.Compose([transforms.RandomHorizontalFlip(),\n",
        "                                              transforms.RandomResizedCrop(28),\n",
        "                                              transforms.GaussianBlur(9),\n",
        "                                              transforms.RandomApply([transforms.ColorJitter(0.5, 0.5, 0.5, 0.1)], p=0.8),\n",
        "                                              transforms.RandomGrayscale(0.2),\n",
        "                                              transforms.Normalize(0.5, 0.5)])\n",
        "\n",
        "  def forward(self, data):\n",
        "    output = self.model(data)\n",
        "    return output\n",
        "\n",
        "  def fit(self, train_data, num_epochs, lr):\n",
        "    optimizer = Adam(self.parameters(), lr=lr)\n",
        "    loss = []\n",
        "\n",
        "    for i in tqdm(range(num_epochs)):\n",
        "      for batch in train_data:\n",
        "        batch = batch[0].to(device)\n",
        "        size = batch.shape[0]\n",
        "\n",
        "        y_1 = self.transformation(batch)\n",
        "        z_1 = self.forward(y_1)\n",
        "        z_1_norm = (z_1 - z_1.mean(0)) / z_1.std(0)\n",
        "\n",
        "        y_2 = self.transformation(batch)\n",
        "        z_2 = self.forward(y_2)\n",
        "        z_2_norm = (z_2 - z_2.mean(0)) / z_2.std(0)\n",
        "\n",
        "        c = (z_1_norm.T @ z_2_norm).div_(size)\n",
        "        size_c = c.shape[0]\n",
        "\n",
        "        loss_diag = torch.diagonal(c).add_(-1)\n",
        "        loss_diag = torch.pow(loss_diag, 2)\n",
        "        loss_diag = torch.sum(loss_diag)\n",
        "\n",
        "        loss_out_diag = c.flatten()[: -1]\n",
        "        # print(loss_out_diag.shape)\n",
        "        loss_out_diag = loss_out_diag.view(size_c - 1, size_c + 1)[:, 1:]\n",
        "        # print(loss_out_diag.shape)\n",
        "        loss_out_diag = loss_out_diag.flatten()\n",
        "        # print(loss_out_diag.shape)\n",
        "        loss_out_diag = torch.pow(loss_out_diag, 2)\n",
        "        loss_out_diag = torch.sum(loss_out_diag)\n",
        "\n",
        "        corrent_loss = loss_diag + self.lambd * loss_out_diag\n",
        "\n",
        "        optimizer.zero_grad()\n",
        "        corrent_loss.backward()\n",
        "        optimizer.step()\n",
        "\n",
        "        loss.append(corrent_loss.item())\n",
        "    loss = np.array(loss)\n",
        "    return loss\n",
        "\n",
        "  def encode(self, data):\n",
        "    with torch.no_grad():\n",
        "      self.eval()\n",
        "      out = self(data.to(device))\n",
        "      self.train()\n",
        "    return out\n"
      ],
      "metadata": {
        "id": "7kyFmjC-wBR5"
      },
      "execution_count": 30,
      "outputs": []
    },
    {
      "cell_type": "code",
      "source": [
        "def q2(train_data, test_data):\n",
        "    \"\"\"\n",
        "    train_data: An (n_train, 1, 32, 32) torchvision dataset of CIFAR10 images with values from -1 to 1\n",
        "\n",
        "    Returns\n",
        "    - a (# of training iterations, ) numpy array  losses on each iteration\n",
        "    - a function that transforms batch of images into their latent representation\n",
        "    \"\"\"\n",
        "    train = DataLoader(train_data, \n",
        "                       batch_size=params['batch_size'],\n",
        "                       shuffle=True)\n",
        "    model_Barlow_Twins = Barlow_Twins(latent_dim=params['latent_dim'], \n",
        "                                      lambd=params['lambda'])\n",
        "    model_Barlow_Twins = model_Barlow_Twins.to(device)\n",
        "    print('done with init')    \n",
        "    loss = model_Barlow_Twins.fit(train, \n",
        "                                  num_epochs=params['num_epochs'], \n",
        "                                  lr=params['lr'])\n",
        "    print('done with losses')\n",
        "    encoder = model_Barlow_Twins.encode\n",
        "    print('done with encode')\n",
        "    return loss, encoder\n"
      ],
      "metadata": {
        "id": "pd6RrZfP75HR"
      },
      "execution_count": 31,
      "outputs": []
    },
    {
      "cell_type": "code",
      "source": [
        "# change flag to False if you want only to test your losses w/o accuracy (it takes around 4-5 minutes)\n",
        "q2_results(q2, True)"
      ],
      "metadata": {
        "id": "EA1Z_s1a8_sB",
        "colab": {
          "base_uri": "https://localhost:8080/",
          "height": 104,
          "referenced_widgets": [
            "c074b8ffccac436b855514152f3a1ad6",
            "e216ceb7587f4ab1a63916f40490af96",
            "6b411b6ace814bed8279410d1917bc81",
            "97877d3eb4114314867307764b5a98bc",
            "eae6784f05a8446998f36847dcea1ea1",
            "d9bdcb30b5bb4ce991c6b28274a28dbf",
            "acd4915803ae4c10a645e4fbba7c3449",
            "7a4f200da861494bb9a51f905abe8fb0",
            "9e5f2c4f563345408f4b60e4a65935dd",
            "fbc6248fdbf84566b72c17559064c1e7",
            "34b7e04379284083b2edcc9d0c0b2547"
          ]
        },
        "outputId": "183a6f51-644b-48c0-b134-088fc97aabb8"
      },
      "execution_count": null,
      "outputs": [
        {
          "output_type": "stream",
          "name": "stdout",
          "text": [
            "Files already downloaded and verified\n",
            "Files already downloaded and verified\n",
            "done with init\n"
          ]
        },
        {
          "output_type": "display_data",
          "data": {
            "application/vnd.jupyter.widget-view+json": {
              "model_id": "c074b8ffccac436b855514152f3a1ad6",
              "version_minor": 0,
              "version_major": 2
            },
            "text/plain": [
              "  0%|          | 0/20 [00:00<?, ?it/s]"
            ]
          },
          "metadata": {}
        }
      ]
    },
    {
      "cell_type": "code",
      "source": [
        "q2_results(q2, False)"
      ],
      "metadata": {
        "id": "JKCzgqre7ZDw"
      },
      "execution_count": null,
      "outputs": []
    },
    {
      "cell_type": "markdown",
      "source": [
        "# Bonus. SwAV\n",
        "\n",
        "Here we will implement [SwAV](https://arxiv.org/abs/2006.09882v5)\n",
        "\n",
        "**You will provide the following deliverables**\n",
        "\n",
        "\n",
        "1. Over the course of training, record loss ber batch.\n",
        "2. A function that encodes a batch of images with your trained model. The function recieves a batch torch tensors on cpu and should return transformed 2d tensor (batch size x laten dim). It will be used to test representation on classification task."
      ],
      "metadata": {
        "id": "D8UN9nr9aYGx"
      }
    },
    {
      "cell_type": "code",
      "source": [
        "def b(train_data):\n",
        "    \"\"\"\n",
        "    train_data: An (n_train, 1, 32, 32) torchvision dataset of CIFAR10 images with values from -1 to 1\n",
        "\n",
        "    Returns\n",
        "    - a (# of training iterations, ) numpy array  losses on each iteration\n",
        "    - a function that transforms batch of images into their latent representation\n",
        "    \"\"\""
      ],
      "metadata": {
        "id": "1Yin_8Ebaa8P"
      },
      "execution_count": null,
      "outputs": []
    },
    {
      "cell_type": "code",
      "source": [
        "q2_results(b, True)"
      ],
      "metadata": {
        "id": "S0jgIgLN8tzd"
      },
      "execution_count": null,
      "outputs": []
    }
  ]
}