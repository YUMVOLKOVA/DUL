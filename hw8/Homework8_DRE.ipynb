{
  "nbformat": 4,
  "nbformat_minor": 0,
  "metadata": {
    "colab": {
      "name": "Homework8_DRE.ipynb",
      "provenance": [],
      "collapsed_sections": [],
      "include_colab_link": true
    },
    "kernelspec": {
      "name": "python3",
      "display_name": "Python 3"
    },
    "language_info": {
      "name": "python"
    },
    "accelerator": "GPU",
    "widgets": {
      "application/vnd.jupyter.widget-state+json": {
        "d967da7111a94459ba9b2ba1511d26ea": {
          "model_module": "@jupyter-widgets/controls",
          "model_name": "HBoxModel",
          "model_module_version": "1.5.0",
          "state": {
            "_view_name": "HBoxView",
            "_dom_classes": [],
            "_model_name": "HBoxModel",
            "_view_module": "@jupyter-widgets/controls",
            "_model_module_version": "1.5.0",
            "_view_count": null,
            "_view_module_version": "1.5.0",
            "box_style": "",
            "layout": "IPY_MODEL_554f95fe3bf04b40a254ea30309cc6d4",
            "_model_module": "@jupyter-widgets/controls",
            "children": [
              "IPY_MODEL_4e601d08c0704084a050cd6e1cfca37a",
              "IPY_MODEL_de9308c2b5f24f69bb0eb868100145b0",
              "IPY_MODEL_699320b7ee664458a2b5464855b077b6"
            ]
          }
        },
        "554f95fe3bf04b40a254ea30309cc6d4": {
          "model_module": "@jupyter-widgets/base",
          "model_name": "LayoutModel",
          "model_module_version": "1.2.0",
          "state": {
            "_view_name": "LayoutView",
            "grid_template_rows": null,
            "right": null,
            "justify_content": null,
            "_view_module": "@jupyter-widgets/base",
            "overflow": null,
            "_model_module_version": "1.2.0",
            "_view_count": null,
            "flex_flow": null,
            "width": null,
            "min_width": null,
            "border": null,
            "align_items": null,
            "bottom": null,
            "_model_module": "@jupyter-widgets/base",
            "top": null,
            "grid_column": null,
            "overflow_y": null,
            "overflow_x": null,
            "grid_auto_flow": null,
            "grid_area": null,
            "grid_template_columns": null,
            "flex": null,
            "_model_name": "LayoutModel",
            "justify_items": null,
            "grid_row": null,
            "max_height": null,
            "align_content": null,
            "visibility": null,
            "align_self": null,
            "height": null,
            "min_height": null,
            "padding": null,
            "grid_auto_rows": null,
            "grid_gap": null,
            "max_width": null,
            "order": null,
            "_view_module_version": "1.2.0",
            "grid_template_areas": null,
            "object_position": null,
            "object_fit": null,
            "grid_auto_columns": null,
            "margin": null,
            "display": null,
            "left": null
          }
        },
        "4e601d08c0704084a050cd6e1cfca37a": {
          "model_module": "@jupyter-widgets/controls",
          "model_name": "HTMLModel",
          "model_module_version": "1.5.0",
          "state": {
            "_view_name": "HTMLView",
            "style": "IPY_MODEL_9640a6eed2404138b5e5989ca8774450",
            "_dom_classes": [],
            "description": "",
            "_model_name": "HTMLModel",
            "placeholder": "​",
            "_view_module": "@jupyter-widgets/controls",
            "_model_module_version": "1.5.0",
            "value": "100%",
            "_view_count": null,
            "_view_module_version": "1.5.0",
            "description_tooltip": null,
            "_model_module": "@jupyter-widgets/controls",
            "layout": "IPY_MODEL_3fa92d40a5a44042a7268c43c6dd7782"
          }
        },
        "de9308c2b5f24f69bb0eb868100145b0": {
          "model_module": "@jupyter-widgets/controls",
          "model_name": "FloatProgressModel",
          "model_module_version": "1.5.0",
          "state": {
            "_view_name": "ProgressView",
            "style": "IPY_MODEL_05bbca8c86154ad5ab3414a53d053e92",
            "_dom_classes": [],
            "description": "",
            "_model_name": "FloatProgressModel",
            "bar_style": "success",
            "max": 1000,
            "_view_module": "@jupyter-widgets/controls",
            "_model_module_version": "1.5.0",
            "value": 1000,
            "_view_count": null,
            "_view_module_version": "1.5.0",
            "orientation": "horizontal",
            "min": 0,
            "description_tooltip": null,
            "_model_module": "@jupyter-widgets/controls",
            "layout": "IPY_MODEL_643951c41345413c918a4963c0b1822a"
          }
        },
        "699320b7ee664458a2b5464855b077b6": {
          "model_module": "@jupyter-widgets/controls",
          "model_name": "HTMLModel",
          "model_module_version": "1.5.0",
          "state": {
            "_view_name": "HTMLView",
            "style": "IPY_MODEL_e4a3fc89461842c494737a020d1a9ed2",
            "_dom_classes": [],
            "description": "",
            "_model_name": "HTMLModel",
            "placeholder": "​",
            "_view_module": "@jupyter-widgets/controls",
            "_model_module_version": "1.5.0",
            "value": " 1000/1000 [05:54&lt;00:00,  2.88it/s]",
            "_view_count": null,
            "_view_module_version": "1.5.0",
            "description_tooltip": null,
            "_model_module": "@jupyter-widgets/controls",
            "layout": "IPY_MODEL_58acbf983e6a4e878b810cdc2c76e7d6"
          }
        },
        "9640a6eed2404138b5e5989ca8774450": {
          "model_module": "@jupyter-widgets/controls",
          "model_name": "DescriptionStyleModel",
          "model_module_version": "1.5.0",
          "state": {
            "_view_name": "StyleView",
            "_model_name": "DescriptionStyleModel",
            "description_width": "",
            "_view_module": "@jupyter-widgets/base",
            "_model_module_version": "1.5.0",
            "_view_count": null,
            "_view_module_version": "1.2.0",
            "_model_module": "@jupyter-widgets/controls"
          }
        },
        "3fa92d40a5a44042a7268c43c6dd7782": {
          "model_module": "@jupyter-widgets/base",
          "model_name": "LayoutModel",
          "model_module_version": "1.2.0",
          "state": {
            "_view_name": "LayoutView",
            "grid_template_rows": null,
            "right": null,
            "justify_content": null,
            "_view_module": "@jupyter-widgets/base",
            "overflow": null,
            "_model_module_version": "1.2.0",
            "_view_count": null,
            "flex_flow": null,
            "width": null,
            "min_width": null,
            "border": null,
            "align_items": null,
            "bottom": null,
            "_model_module": "@jupyter-widgets/base",
            "top": null,
            "grid_column": null,
            "overflow_y": null,
            "overflow_x": null,
            "grid_auto_flow": null,
            "grid_area": null,
            "grid_template_columns": null,
            "flex": null,
            "_model_name": "LayoutModel",
            "justify_items": null,
            "grid_row": null,
            "max_height": null,
            "align_content": null,
            "visibility": null,
            "align_self": null,
            "height": null,
            "min_height": null,
            "padding": null,
            "grid_auto_rows": null,
            "grid_gap": null,
            "max_width": null,
            "order": null,
            "_view_module_version": "1.2.0",
            "grid_template_areas": null,
            "object_position": null,
            "object_fit": null,
            "grid_auto_columns": null,
            "margin": null,
            "display": null,
            "left": null
          }
        },
        "05bbca8c86154ad5ab3414a53d053e92": {
          "model_module": "@jupyter-widgets/controls",
          "model_name": "ProgressStyleModel",
          "model_module_version": "1.5.0",
          "state": {
            "_view_name": "StyleView",
            "_model_name": "ProgressStyleModel",
            "description_width": "",
            "_view_module": "@jupyter-widgets/base",
            "_model_module_version": "1.5.0",
            "_view_count": null,
            "_view_module_version": "1.2.0",
            "bar_color": null,
            "_model_module": "@jupyter-widgets/controls"
          }
        },
        "643951c41345413c918a4963c0b1822a": {
          "model_module": "@jupyter-widgets/base",
          "model_name": "LayoutModel",
          "model_module_version": "1.2.0",
          "state": {
            "_view_name": "LayoutView",
            "grid_template_rows": null,
            "right": null,
            "justify_content": null,
            "_view_module": "@jupyter-widgets/base",
            "overflow": null,
            "_model_module_version": "1.2.0",
            "_view_count": null,
            "flex_flow": null,
            "width": null,
            "min_width": null,
            "border": null,
            "align_items": null,
            "bottom": null,
            "_model_module": "@jupyter-widgets/base",
            "top": null,
            "grid_column": null,
            "overflow_y": null,
            "overflow_x": null,
            "grid_auto_flow": null,
            "grid_area": null,
            "grid_template_columns": null,
            "flex": null,
            "_model_name": "LayoutModel",
            "justify_items": null,
            "grid_row": null,
            "max_height": null,
            "align_content": null,
            "visibility": null,
            "align_self": null,
            "height": null,
            "min_height": null,
            "padding": null,
            "grid_auto_rows": null,
            "grid_gap": null,
            "max_width": null,
            "order": null,
            "_view_module_version": "1.2.0",
            "grid_template_areas": null,
            "object_position": null,
            "object_fit": null,
            "grid_auto_columns": null,
            "margin": null,
            "display": null,
            "left": null
          }
        },
        "e4a3fc89461842c494737a020d1a9ed2": {
          "model_module": "@jupyter-widgets/controls",
          "model_name": "DescriptionStyleModel",
          "model_module_version": "1.5.0",
          "state": {
            "_view_name": "StyleView",
            "_model_name": "DescriptionStyleModel",
            "description_width": "",
            "_view_module": "@jupyter-widgets/base",
            "_model_module_version": "1.5.0",
            "_view_count": null,
            "_view_module_version": "1.2.0",
            "_model_module": "@jupyter-widgets/controls"
          }
        },
        "58acbf983e6a4e878b810cdc2c76e7d6": {
          "model_module": "@jupyter-widgets/base",
          "model_name": "LayoutModel",
          "model_module_version": "1.2.0",
          "state": {
            "_view_name": "LayoutView",
            "grid_template_rows": null,
            "right": null,
            "justify_content": null,
            "_view_module": "@jupyter-widgets/base",
            "overflow": null,
            "_model_module_version": "1.2.0",
            "_view_count": null,
            "flex_flow": null,
            "width": null,
            "min_width": null,
            "border": null,
            "align_items": null,
            "bottom": null,
            "_model_module": "@jupyter-widgets/base",
            "top": null,
            "grid_column": null,
            "overflow_y": null,
            "overflow_x": null,
            "grid_auto_flow": null,
            "grid_area": null,
            "grid_template_columns": null,
            "flex": null,
            "_model_name": "LayoutModel",
            "justify_items": null,
            "grid_row": null,
            "max_height": null,
            "align_content": null,
            "visibility": null,
            "align_self": null,
            "height": null,
            "min_height": null,
            "padding": null,
            "grid_auto_rows": null,
            "grid_gap": null,
            "max_width": null,
            "order": null,
            "_view_module_version": "1.2.0",
            "grid_template_areas": null,
            "object_position": null,
            "object_fit": null,
            "grid_auto_columns": null,
            "margin": null,
            "display": null,
            "left": null
          }
        },
        "a35424a288944a08be3dd123041797da": {
          "model_module": "@jupyter-widgets/controls",
          "model_name": "HBoxModel",
          "model_module_version": "1.5.0",
          "state": {
            "_view_name": "HBoxView",
            "_dom_classes": [],
            "_model_name": "HBoxModel",
            "_view_module": "@jupyter-widgets/controls",
            "_model_module_version": "1.5.0",
            "_view_count": null,
            "_view_module_version": "1.5.0",
            "box_style": "",
            "layout": "IPY_MODEL_df024c9994e14bbba356608a308e784a",
            "_model_module": "@jupyter-widgets/controls",
            "children": [
              "IPY_MODEL_05fec2011c194d3e9d2c94188fb4702f",
              "IPY_MODEL_1fd6151f101945eb829c99c965573bd7",
              "IPY_MODEL_b593df0c6558450db22e0b3628e6b4ea"
            ]
          }
        },
        "df024c9994e14bbba356608a308e784a": {
          "model_module": "@jupyter-widgets/base",
          "model_name": "LayoutModel",
          "model_module_version": "1.2.0",
          "state": {
            "_view_name": "LayoutView",
            "grid_template_rows": null,
            "right": null,
            "justify_content": null,
            "_view_module": "@jupyter-widgets/base",
            "overflow": null,
            "_model_module_version": "1.2.0",
            "_view_count": null,
            "flex_flow": null,
            "width": null,
            "min_width": null,
            "border": null,
            "align_items": null,
            "bottom": null,
            "_model_module": "@jupyter-widgets/base",
            "top": null,
            "grid_column": null,
            "overflow_y": null,
            "overflow_x": null,
            "grid_auto_flow": null,
            "grid_area": null,
            "grid_template_columns": null,
            "flex": null,
            "_model_name": "LayoutModel",
            "justify_items": null,
            "grid_row": null,
            "max_height": null,
            "align_content": null,
            "visibility": null,
            "align_self": null,
            "height": null,
            "min_height": null,
            "padding": null,
            "grid_auto_rows": null,
            "grid_gap": null,
            "max_width": null,
            "order": null,
            "_view_module_version": "1.2.0",
            "grid_template_areas": null,
            "object_position": null,
            "object_fit": null,
            "grid_auto_columns": null,
            "margin": null,
            "display": null,
            "left": null
          }
        },
        "05fec2011c194d3e9d2c94188fb4702f": {
          "model_module": "@jupyter-widgets/controls",
          "model_name": "HTMLModel",
          "model_module_version": "1.5.0",
          "state": {
            "_view_name": "HTMLView",
            "style": "IPY_MODEL_733af941c4a943ef9e2ba20d6df12764",
            "_dom_classes": [],
            "description": "",
            "_model_name": "HTMLModel",
            "placeholder": "​",
            "_view_module": "@jupyter-widgets/controls",
            "_model_module_version": "1.5.0",
            "value": "100%",
            "_view_count": null,
            "_view_module_version": "1.5.0",
            "description_tooltip": null,
            "_model_module": "@jupyter-widgets/controls",
            "layout": "IPY_MODEL_4bdd250f81f14d6d9eb736d0aa10aa39"
          }
        },
        "1fd6151f101945eb829c99c965573bd7": {
          "model_module": "@jupyter-widgets/controls",
          "model_name": "FloatProgressModel",
          "model_module_version": "1.5.0",
          "state": {
            "_view_name": "ProgressView",
            "style": "IPY_MODEL_97411a2300cb4dcd8fc8b4b19a5ac8da",
            "_dom_classes": [],
            "description": "",
            "_model_name": "FloatProgressModel",
            "bar_style": "success",
            "max": 20,
            "_view_module": "@jupyter-widgets/controls",
            "_model_module_version": "1.5.0",
            "value": 20,
            "_view_count": null,
            "_view_module_version": "1.5.0",
            "orientation": "horizontal",
            "min": 0,
            "description_tooltip": null,
            "_model_module": "@jupyter-widgets/controls",
            "layout": "IPY_MODEL_47bb800589604988a46b21d2da38818f"
          }
        },
        "b593df0c6558450db22e0b3628e6b4ea": {
          "model_module": "@jupyter-widgets/controls",
          "model_name": "HTMLModel",
          "model_module_version": "1.5.0",
          "state": {
            "_view_name": "HTMLView",
            "style": "IPY_MODEL_8ef7717ad5eb4dfc956f88a3bfab4e55",
            "_dom_classes": [],
            "description": "",
            "_model_name": "HTMLModel",
            "placeholder": "​",
            "_view_module": "@jupyter-widgets/controls",
            "_model_module_version": "1.5.0",
            "value": " 20/20 [18:38&lt;00:00, 55.52s/it]",
            "_view_count": null,
            "_view_module_version": "1.5.0",
            "description_tooltip": null,
            "_model_module": "@jupyter-widgets/controls",
            "layout": "IPY_MODEL_9cc9389357604eb4b2ac09ea10bd0e34"
          }
        },
        "733af941c4a943ef9e2ba20d6df12764": {
          "model_module": "@jupyter-widgets/controls",
          "model_name": "DescriptionStyleModel",
          "model_module_version": "1.5.0",
          "state": {
            "_view_name": "StyleView",
            "_model_name": "DescriptionStyleModel",
            "description_width": "",
            "_view_module": "@jupyter-widgets/base",
            "_model_module_version": "1.5.0",
            "_view_count": null,
            "_view_module_version": "1.2.0",
            "_model_module": "@jupyter-widgets/controls"
          }
        },
        "4bdd250f81f14d6d9eb736d0aa10aa39": {
          "model_module": "@jupyter-widgets/base",
          "model_name": "LayoutModel",
          "model_module_version": "1.2.0",
          "state": {
            "_view_name": "LayoutView",
            "grid_template_rows": null,
            "right": null,
            "justify_content": null,
            "_view_module": "@jupyter-widgets/base",
            "overflow": null,
            "_model_module_version": "1.2.0",
            "_view_count": null,
            "flex_flow": null,
            "width": null,
            "min_width": null,
            "border": null,
            "align_items": null,
            "bottom": null,
            "_model_module": "@jupyter-widgets/base",
            "top": null,
            "grid_column": null,
            "overflow_y": null,
            "overflow_x": null,
            "grid_auto_flow": null,
            "grid_area": null,
            "grid_template_columns": null,
            "flex": null,
            "_model_name": "LayoutModel",
            "justify_items": null,
            "grid_row": null,
            "max_height": null,
            "align_content": null,
            "visibility": null,
            "align_self": null,
            "height": null,
            "min_height": null,
            "padding": null,
            "grid_auto_rows": null,
            "grid_gap": null,
            "max_width": null,
            "order": null,
            "_view_module_version": "1.2.0",
            "grid_template_areas": null,
            "object_position": null,
            "object_fit": null,
            "grid_auto_columns": null,
            "margin": null,
            "display": null,
            "left": null
          }
        },
        "97411a2300cb4dcd8fc8b4b19a5ac8da": {
          "model_module": "@jupyter-widgets/controls",
          "model_name": "ProgressStyleModel",
          "model_module_version": "1.5.0",
          "state": {
            "_view_name": "StyleView",
            "_model_name": "ProgressStyleModel",
            "description_width": "",
            "_view_module": "@jupyter-widgets/base",
            "_model_module_version": "1.5.0",
            "_view_count": null,
            "_view_module_version": "1.2.0",
            "bar_color": null,
            "_model_module": "@jupyter-widgets/controls"
          }
        },
        "47bb800589604988a46b21d2da38818f": {
          "model_module": "@jupyter-widgets/base",
          "model_name": "LayoutModel",
          "model_module_version": "1.2.0",
          "state": {
            "_view_name": "LayoutView",
            "grid_template_rows": null,
            "right": null,
            "justify_content": null,
            "_view_module": "@jupyter-widgets/base",
            "overflow": null,
            "_model_module_version": "1.2.0",
            "_view_count": null,
            "flex_flow": null,
            "width": null,
            "min_width": null,
            "border": null,
            "align_items": null,
            "bottom": null,
            "_model_module": "@jupyter-widgets/base",
            "top": null,
            "grid_column": null,
            "overflow_y": null,
            "overflow_x": null,
            "grid_auto_flow": null,
            "grid_area": null,
            "grid_template_columns": null,
            "flex": null,
            "_model_name": "LayoutModel",
            "justify_items": null,
            "grid_row": null,
            "max_height": null,
            "align_content": null,
            "visibility": null,
            "align_self": null,
            "height": null,
            "min_height": null,
            "padding": null,
            "grid_auto_rows": null,
            "grid_gap": null,
            "max_width": null,
            "order": null,
            "_view_module_version": "1.2.0",
            "grid_template_areas": null,
            "object_position": null,
            "object_fit": null,
            "grid_auto_columns": null,
            "margin": null,
            "display": null,
            "left": null
          }
        },
        "8ef7717ad5eb4dfc956f88a3bfab4e55": {
          "model_module": "@jupyter-widgets/controls",
          "model_name": "DescriptionStyleModel",
          "model_module_version": "1.5.0",
          "state": {
            "_view_name": "StyleView",
            "_model_name": "DescriptionStyleModel",
            "description_width": "",
            "_view_module": "@jupyter-widgets/base",
            "_model_module_version": "1.5.0",
            "_view_count": null,
            "_view_module_version": "1.2.0",
            "_model_module": "@jupyter-widgets/controls"
          }
        },
        "9cc9389357604eb4b2ac09ea10bd0e34": {
          "model_module": "@jupyter-widgets/base",
          "model_name": "LayoutModel",
          "model_module_version": "1.2.0",
          "state": {
            "_view_name": "LayoutView",
            "grid_template_rows": null,
            "right": null,
            "justify_content": null,
            "_view_module": "@jupyter-widgets/base",
            "overflow": null,
            "_model_module_version": "1.2.0",
            "_view_count": null,
            "flex_flow": null,
            "width": null,
            "min_width": null,
            "border": null,
            "align_items": null,
            "bottom": null,
            "_model_module": "@jupyter-widgets/base",
            "top": null,
            "grid_column": null,
            "overflow_y": null,
            "overflow_x": null,
            "grid_auto_flow": null,
            "grid_area": null,
            "grid_template_columns": null,
            "flex": null,
            "_model_name": "LayoutModel",
            "justify_items": null,
            "grid_row": null,
            "max_height": null,
            "align_content": null,
            "visibility": null,
            "align_self": null,
            "height": null,
            "min_height": null,
            "padding": null,
            "grid_auto_rows": null,
            "grid_gap": null,
            "max_width": null,
            "order": null,
            "_view_module_version": "1.2.0",
            "grid_template_areas": null,
            "object_position": null,
            "object_fit": null,
            "grid_auto_columns": null,
            "margin": null,
            "display": null,
            "left": null
          }
        }
      }
    }
  },
  "cells": [
    {
      "cell_type": "markdown",
      "metadata": {
        "id": "view-in-github",
        "colab_type": "text"
      },
      "source": [
        "<a href=\"https://colab.research.google.com/github/YUMVOLKOVA/dul_2021/blob/main/hw8/Homework8_DRE.ipynb\" target=\"_parent\"><img src=\"https://colab.research.google.com/assets/colab-badge.svg\" alt=\"Open In Colab\"/></a>"
      ]
    },
    {
      "cell_type": "code",
      "execution_count": null,
      "metadata": {
        "id": "botyZAC03R1t",
        "outputId": "8e94bab3-821a-4aff-88ce-0c1d036cef0e",
        "colab": {
          "base_uri": "https://localhost:8080/"
        }
      },
      "outputs": [
        {
          "output_type": "stream",
          "name": "stdout",
          "text": [
            "Cloning into 'dul_2021'...\n",
            "remote: Enumerating objects: 361, done.\u001b[K\n",
            "remote: Counting objects: 100% (198/198), done.\u001b[K\n",
            "remote: Compressing objects: 100% (127/127), done.\u001b[K\n",
            "remote: Total 361 (delta 112), reused 91 (delta 65), pack-reused 163\u001b[K\n",
            "Receiving objects: 100% (361/361), 55.77 MiB | 31.78 MiB/s, done.\n",
            "Resolving deltas: 100% (169/169), done.\n",
            "renamed 'dul_2021/Homework/hw1/data/hw1_data/geoffrey-hinton.jpg' -> 'dul_2021/Homework/hw1/data/geoffrey-hinton.jpg'\n",
            "renamed 'dul_2021/Homework/hw1/data/hw1_data/mnist_colored.pkl' -> 'dul_2021/Homework/hw1/data/mnist_colored.pkl'\n",
            "renamed 'dul_2021/Homework/hw1/data/hw1_data/mnist.pkl' -> 'dul_2021/Homework/hw1/data/mnist.pkl'\n",
            "renamed 'dul_2021/Homework/hw1/data/hw1_data/shapes_colored.pkl' -> 'dul_2021/Homework/hw1/data/shapes_colored.pkl'\n",
            "renamed 'dul_2021/Homework/hw1/data/hw1_data/shapes.pkl' -> 'dul_2021/Homework/hw1/data/shapes.pkl'\n",
            "renamed 'dul_2021/Homework/hw1/data/hw1_data/smiley.jpg' -> 'dul_2021/Homework/hw1/data/smiley.jpg'\n",
            "Processing ./dul_2021\n",
            "\u001b[33m  DEPRECATION: A future pip version will change local packages to be built in-place without first copying to a temporary directory. We recommend you use --use-feature=in-tree-build to test your packages with this new behavior before it becomes the default.\n",
            "   pip 21.3 will remove support for this functionality. You can find discussion regarding this at https://github.com/pypa/pip/issues/7555.\u001b[0m\n",
            "Building wheels for collected packages: dul-2021\n",
            "  Building wheel for dul-2021 (setup.py) ... \u001b[?25l\u001b[?25hdone\n",
            "  Created wheel for dul-2021: filename=dul_2021-0.1.0-py3-none-any.whl size=26856 sha256=c5c96f6ba32cd4de7253487e3dd8aa814be863051a1fe0f6e59f3f1462888848\n",
            "  Stored in directory: /tmp/pip-ephem-wheel-cache-xmlyx0jo/wheels/55/59/29/0fb1c635652157734f4d741f32fc11979149684e83e919de06\n",
            "Successfully built dul-2021\n",
            "Installing collected packages: dul-2021\n",
            "  Attempting uninstall: dul-2021\n",
            "    Found existing installation: dul-2021 0.1.0\n",
            "    Uninstalling dul-2021-0.1.0:\n",
            "      Successfully uninstalled dul-2021-0.1.0\n",
            "Successfully installed dul-2021-0.1.0\n"
          ]
        }
      ],
      "source": [
        "!if [ -d dul_2021 ]; then rm -Rf dul_2021; fi\n",
        "!git clone https://github.com/GrigoryBartosh/dul_2021\n",
        "!unzip -qq dul_2021/Homework/hw1/data/hw1_data.zip -d dul_2021/Homework/hw1/data/\n",
        "!mv -v dul_2021/Homework/hw1/data/hw1_data/* dul_2021/Homework/hw1/data/\n",
        "!rmdir dul_2021/Homework/hw1/data/hw1_data/\n",
        "!pip install ./dul_2021"
      ]
    },
    {
      "cell_type": "code",
      "metadata": {
        "id": "ZHWosWrbpO5Y"
      },
      "source": [
        "from dul_2021.utils.hw8_utils import *"
      ],
      "execution_count": null,
      "outputs": []
    },
    {
      "cell_type": "markdown",
      "source": [
        "# Question 1. KMM"
      ],
      "metadata": {
        "id": "WGaJ2yY4bGWo"
      }
    },
    {
      "cell_type": "markdown",
      "source": [
        "## Notations from practice\n",
        "\n",
        "*   $p_{nu}(x)$ - pdf of numerator\n",
        "*   $p_{de}(x)$ - pdf of denominator\n",
        "*   $r(x)=\\frac{p_{nu}(x)}{p_{de}(x)}$ - density ratio\n",
        "*   $p_{nu}^*, p_{du}^*, r^*$ - estimatinos of respective functions\n",
        "*   $\\{x^{nu}_i\\}_{i=1}^{n_{nu}}$ - sample from numerator distribution\n",
        "*   $\\{x^{de}_i\\}_{i=1}^{n_{de}}$ - sample from denominator distribution\n",
        "\n",
        "\n",
        "\n",
        "## KMM objective\n",
        "\n",
        "Here we will implement Kernel Mean Matching (KMM) method for density ratio estimation. The basic idea of KMM is to 'match' expections of kernel function:\n",
        "\n",
        "$$argmin_{r^*} ||E_{p_{de}}r^*(x)K(\\cdot, x) - E_{p_{nu}}K(\\cdot, x)||$$\n",
        "\n",
        "Where $K(x, x') = exp(-\\frac{|x-y|^2}{2\\sigma^2})$. Emperical variant of this objective can be rewritten as follows:\n",
        "\n",
        "$$argmin_{r^*} \\frac{1}{n_{de}^2} (r^*_{de})^t K_{de, de} r^*_{de} - \\frac{2}{n_{nu}n_{de} }(r^*_{de})^t K_{de, nu}1_{n_{nu}}$$\n",
        "\n",
        "Where\n",
        "\n",
        "\n",
        "*   $r^*_{de}$ - vector with $(r^*_{de})_i=r^*(x^{de}_i)$\n",
        "*   $K_{de, de}$ - matrix with $(K_{de, de})_{i, j} = K(x^{de}_i, x^{de}_j)$\n",
        "*   $K_{de, nu}$ - matrix with $(K_{de, nu})_{i, j} = K(x^{de}_i, x^{nu}_j)$\n",
        "*   $1_{n_{nu}}$ - vector with $n_{nu}$ ones\n",
        "\n",
        "\n",
        "## You will provide these deliverables\n",
        "Density ratio on $[-2, 2]$.\n"
      ],
      "metadata": {
        "id": "9puPlBKicfOq"
      }
    },
    {
      "cell_type": "code",
      "source": [
        "# distributions"
      ],
      "metadata": {
        "colab": {
          "base_uri": "https://localhost:8080/",
          "height": 283
        },
        "id": "07hzT2JG2Lvv",
        "outputId": "303516fe-a460-438f-e3fd-649e6fbb9d29"
      },
      "execution_count": null,
      "outputs": [
        {
          "output_type": "display_data",
          "data": {
            "text/plain": [
              "<Figure size 432x288 with 0 Axes>"
            ]
          },
          "metadata": {}
        },
        {
          "output_type": "display_data",
          "data": {
            "image/png": "[encoded data removed]",
            "text/plain": [
              "<Figure size 432x288 with 1 Axes>"
            ]
          },
          "metadata": {
            "needs_background": "light"
          }
        }
      ]
    },
    {
      "cell_type": "code",
      "source": [
        "import numpy as np\n",
        "import torch\n",
        "import torch.nn as nn\n",
        "import torch.utils.data as data\n",
        "from torch.optim import Adam\n",
        "from tqdm.notebook import tqdm\n",
        "from sklearn.metrics.pairwise import rbf_kernel"
      ],
      "metadata": {
        "id": "2niEULHivRkz"
      },
      "execution_count": null,
      "outputs": []
    },
    {
      "cell_type": "code",
      "source": [
        "device = torch.device(\"cuda\" if torch.cuda.is_available() else \"cpu\")"
      ],
      "metadata": {
        "id": "PzM52pWTwkbN"
      },
      "execution_count": null,
      "outputs": []
    },
    {
      "cell_type": "code",
      "source": [
        "class KMM(nn.Module):\n",
        "  def __init__(self, hd=128):\n",
        "    super().__init__()\n",
        "    self.r = nn.Sequential(nn.Linear(1, hd), \n",
        "                               nn.ReLU(),\n",
        "                               nn.Linear(hd, hd), \n",
        "                               nn.ReLU(),\n",
        "                               nn.Linear(hd, 1),\n",
        "                               nn.Softplus())\n",
        "    \n",
        "  def fit(self, data_nu, data_de, batch_size=512, lr=1e-3, num_epochs=1000):\n",
        "    optim = Adam(self.r.parameters(), lr=lr)\n",
        "\n",
        "    for epoch in tqdm(range(num_epochs)):\n",
        "      for (batch_nu, batch_de) in zip(data_nu, data_de):\n",
        "        n = batch_nu.shape[0]\n",
        "        batch_nu = batch_nu.view(-1, 1).float().to(device)\n",
        "        batch_de = batch_de.view(-1, 1).float().to(device)\n",
        "\n",
        "        r_de = self.r(batch_de)\n",
        "        kernel_de = rbf_kernel(batch_de.cpu(), batch_de.cpu(), gamma=5)\n",
        "        kernel_de = torch.tensor(kernel_de).to(device)\n",
        "        kernel_nu = rbf_kernel(batch_de.cpu(), batch_nu.cpu(), gamma=5)\n",
        "        kernel_nu = torch.tensor(kernel_nu).to(device)\n",
        "\n",
        "        first = r_de.T.matmul(kernel_de).matmul(r_de)\n",
        "        second = r_de.T.matmul(kernel_nu).matmul(torch.ones_like(batch_nu))\n",
        "        loss = (first - 2 * second) / n ** 2\n",
        "\n",
        "        optim.zero_grad()\n",
        "        loss.backward()\n",
        "        optim.step()\n",
        "\n",
        "  def predict(self, data):\n",
        "    return self.r(data).detach().cpu().numpy()\n"
      ],
      "metadata": {
        "id": "QhbuepKzof1F"
      },
      "execution_count": null,
      "outputs": []
    },
    {
      "cell_type": "code",
      "source": [
        "params = {'batch_size': 512,\n",
        "          'hd': 128,\n",
        "          'lr': 1e-3, \n",
        "          'num_epochs': 1000}"
      ],
      "metadata": {
        "id": "P2HNx1ls4swS"
      },
      "execution_count": null,
      "outputs": []
    },
    {
      "cell_type": "code",
      "source": [
        "def q1(data_nu, data_de):\n",
        "  \"\"\"\n",
        "  data_nu - An [n_nu] dataset with samples from numerator's distribution\n",
        "  data_de - An [n_de] dataset with samples from denominators's distribution\n",
        "  \n",
        "  Returns\n",
        "    - a np.array with density ratios of np.linspace(-2., 2, num=100)\n",
        "  \"\"\"\n",
        "  # your code goes here\n",
        "\n",
        "  # you need to calculate density ratio on x and return it\n",
        "  # x = np.linspace(-2., 2, num=100)\n",
        "\n",
        "  kmm = KMM(hd=params['hd']).to(device)\n",
        "  loader_nu = data.DataLoader(data_nu, \n",
        "                              batch_size=params['batch_size'], \n",
        "                              shuffle=True)\n",
        "        \n",
        "  loader_de = data.DataLoader(data_de, \n",
        "                              batch_size=params['batch_size'], \n",
        "                              shuffle=True)\n",
        "  kmm.fit(loader_nu, \n",
        "          loader_de, \n",
        "          batch_size=params['batch_size'], \n",
        "          lr=params['lr'], \n",
        "          num_epochs=params['num_epochs'])\n",
        "  \n",
        "  x = np.linspace(-2., 2, num=100)\n",
        "  x = torch.tensor(x).reshape(-1, 1).float().to(device)\n",
        "  x_hat = kmm.predict(x)\n",
        "  \n",
        "  return x_hat  \n"
      ],
      "metadata": {
        "id": "4-jdrQdePnCk"
      },
      "execution_count": null,
      "outputs": []
    },
    {
      "cell_type": "code",
      "source": [
        "# q1_results(q1)"
      ],
      "metadata": {
        "colab": {
          "base_uri": "https://localhost:8080/",
          "height": 314,
          "referenced_widgets": [
            "d967da7111a94459ba9b2ba1511d26ea",
            "554f95fe3bf04b40a254ea30309cc6d4",
            "4e601d08c0704084a050cd6e1cfca37a",
            "de9308c2b5f24f69bb0eb868100145b0",
            "699320b7ee664458a2b5464855b077b6",
            "9640a6eed2404138b5e5989ca8774450",
            "3fa92d40a5a44042a7268c43c6dd7782",
            "05bbca8c86154ad5ab3414a53d053e92",
            "643951c41345413c918a4963c0b1822a",
            "e4a3fc89461842c494737a020d1a9ed2",
            "58acbf983e6a4e878b810cdc2c76e7d6"
          ]
        },
        "id": "4uSiYdu--V5G",
        "outputId": "6c6f5105-9a30-4b6e-946d-66a4ae33f371"
      },
      "execution_count": null,
      "outputs": [
        {
          "output_type": "display_data",
          "data": {
            "application/vnd.jupyter.widget-view+json": {
              "model_id": "d967da7111a94459ba9b2ba1511d26ea",
              "version_minor": 0,
              "version_major": 2
            },
            "text/plain": [
              "  0%|          | 0/1000 [00:00<?, ?it/s]"
            ]
          },
          "metadata": {}
        },
        {
          "output_type": "display_data",
          "data": {
            "text/plain": [
              "<Figure size 432x288 with 0 Axes>"
            ]
          },
          "metadata": {}
        },
        {
          "output_type": "display_data",
          "data": {
            "image/png": "[encoded data removed]",
            "text/plain": [
              "<Figure size 432x288 with 1 Axes>"
            ]
          },
          "metadata": {
            "needs_background": "light"
          }
        }
      ]
    },
    {
      "cell_type": "markdown",
      "source": [
        "# Question 2. AVB"
      ],
      "metadata": {
        "id": "uBag5rcAckn8"
      }
    },
    {
      "cell_type": "markdown",
      "source": [
        "Here we will implement [Adversairal Variational Bayes](https://dl.acm.org/doi/pdf/10.5555/3305890.3305928).\n",
        "\n",
        "You may experiment with different hyperparameters and architecture designs, but the following designs for the AVB architecture may be useful.\n",
        "\n",
        "```\n",
        "Classifier (T)\n",
        "    Conv2d(1, 32, 3, 1, 1), \n",
        "    ReLU(),\n",
        "    Conv2d(32, 64, 3, 2, 1),\n",
        "    ReLU(), \n",
        "    Conv2d(64, 128, 3, 2, 1), \n",
        "    ReLU(), \n",
        "    Conv2d(128, 128, 3, 2, 1), \n",
        "    ReLU(),\n",
        "    # reshape + add latent\n",
        "    Linear(4 * 4 * 128 + ld, hd), \n",
        "    ReLU(),\n",
        "    Linear(hd, hd), \n",
        "    ReLU(),\n",
        "    Linear(hd, 1)\n",
        "\n",
        "\n",
        "Encoder (E)\n",
        "\n",
        "    Conv2d(1, 32, 3, 1, 1), \n",
        "    ReLU(),\n",
        "    Conv2d(32, 64, 3, 2, 1),\n",
        "    ReLU(), \n",
        "    Conv2d(64, 128, 3, 2, 1), \n",
        "    ReLU(), \n",
        "    Conv2d(128, 128, 3, 2, 1), \n",
        "    ReLU(), \n",
        "    # add noise + reshape\n",
        "    Linear(4 * 4 * 128 + nd, ld)\n",
        "\n",
        "Decoder (D)\n",
        "    ConvTranspose2d(128, 128, 3, 2, 1), \n",
        "    ReLU(), \n",
        "    ConvTranspose2d(128, 64, 4, 2, 1), \n",
        "    ReLU(), \n",
        "    ConvTranspose2d(64, 32, 4, 2, 1), \n",
        "    ReLU(), \n",
        "    Conv2d(32, 1, 3, 1, 1)\n",
        "    # reshape\n",
        "    Linear(ld, 4 * 4 * 128), \n",
        "    ReLU()\n",
        "```\n",
        "\n",
        "**Reminder.** Objective for AVB\n",
        "\n",
        "$$max_{\\theta, \\phi} E \\log p_\\theta(x|z_\\phi(x)) - T(x, z_\\phi(x))$$\n",
        "$$max_{T} E_x \\bigg(E_{q_\\phi(z|x)} \\log\\big(\\sigma (T(x, z))\\big) + E_{p(z)} \\log\\big(1 - \\sigma (T(x, z))\\big)\\bigg) $$\n",
        "\n",
        "$\\phi$ - parameters of encoder, $\\theta$ - parameters of decoder\n",
        "\n",
        "\n",
        "**You will provide the following deliverables**\n",
        "\n",
        "\n",
        "1.   Over the course of training, record the elbo and loss of the classifier T ber batch.\n",
        "2. Report the final test set performances of your final models\n",
        "3. 100 samples from your trained AVB"
      ],
      "metadata": {
        "id": "-V1V1syvbINX"
      }
    },
    {
      "cell_type": "code",
      "source": [
        "import torch\n",
        "import torch.nn as nn\n",
        "import torch.nn.functional as F\n",
        "import torch.utils.data as data\n",
        "from torch.utils.data import DataLoader\n",
        "import torch.optim as opt\n",
        "import numpy as np\n",
        "from torch.distributions import MultivariateNormal\n",
        "from torch.optim import Adam\n",
        "\n",
        "from tqdm.notebook import tqdm"
      ],
      "metadata": {
        "id": "2YNxvypwcsHm"
      },
      "execution_count": null,
      "outputs": []
    },
    {
      "cell_type": "code",
      "source": [
        "device = torch.device(\"cuda\" if torch.cuda.is_available() else \"cpu\")"
      ],
      "metadata": {
        "id": "BOL_vTtAcs2P"
      },
      "execution_count": null,
      "outputs": []
    },
    {
      "cell_type": "code",
      "source": [
        "torch.autograd.set_detect_anomaly(True)"
      ],
      "metadata": {
        "id": "Uiwfulxy4uJ_",
        "outputId": "d5901224-a4ef-4cb1-eafa-5178bf43040e",
        "colab": {
          "base_uri": "https://localhost:8080/"
        }
      },
      "execution_count": null,
      "outputs": [
        {
          "output_type": "execute_result",
          "data": {
            "text/plain": [
              "<torch.autograd.anomaly_mode.set_detect_anomaly at 0x7ff869532750>"
            ]
          },
          "metadata": {},
          "execution_count": 92
        }
      ]
    },
    {
      "cell_type": "code",
      "source": [
        "class Encoder(nn.Module):\n",
        "  def __init__(self, latent_dim, noise, const=4 * 4 * 128):\n",
        "    super().__init__()\n",
        "    self.latent_dim = latent_dim\n",
        "    self.noise = noise\n",
        "    self.const = const\n",
        "\n",
        "    self.seq = nn.Sequential(nn.Conv2d(1, 32, 3, 1, 1),\n",
        "                              nn.ReLU(),\n",
        "                              nn.Conv2d(32, 64, 3, 2, 1),\n",
        "                              nn.ReLU(), \n",
        "                              nn.Conv2d(64, 128, 3, 2, 1), \n",
        "                              nn.ReLU(), \n",
        "                              nn.Conv2d(128, 128, 3, 2, 1), \n",
        "                              nn.ReLU())\n",
        "    self.linear = nn.Linear(self.const + self.noise, self.latent_dim)\n",
        "\n",
        "  def forward(self, data, noise):\n",
        "    data = self.seq(data).flatten(start_dim=1)\n",
        "    data = torch.cat((data, noise), 1)\n",
        "    output = self.linear(data)\n",
        "    return output\n",
        "\n",
        "\n",
        "class Decoder(nn.Module):\n",
        "  def __init__(self, latent_dim, const=4 * 4 * 128):\n",
        "    super().__init__()\n",
        "    self.latent_dim = latent_dim\n",
        "    self.const = const\n",
        "\n",
        "    self.seq = nn.Sequential(nn.ConvTranspose2d(128, 128, 3, 2, 1), \n",
        "                              nn.ReLU(), \n",
        "                              nn.ConvTranspose2d(128, 64, 4, 2, 1), \n",
        "                              nn.ReLU(), \n",
        "                              nn.ConvTranspose2d(64, 32, 4, 2, 1), \n",
        "                              nn.ReLU(), \n",
        "                              nn.Conv2d(32, 1, 3, 1, 1),\n",
        "                              nn.Tanh())\n",
        "    self.linaer = nn.Sequential(nn.Linear(self.latent_dim, self.const),\n",
        "                                nn.ReLU())\n",
        "    \n",
        "  def forward(self, data):\n",
        "    data = self.linaer(data)\n",
        "    data = data.view(-1, 128, 4, 4)\n",
        "    output = self.seq(data)\n",
        "    return output\n",
        "\n",
        "\n",
        "class Classifier(nn.Module):\n",
        "  def __init__(self, latent_dim, hidden_dim, const=4 * 4 * 128): \n",
        "    super().__init__()\n",
        "    self.latent_dim = latent_dim\n",
        "    self.hidden_dim = hidden_dim\n",
        "    self.const = const\n",
        "\n",
        "    self.seq = nn.Sequential(nn.Conv2d(1, 32, 3, 1, 1),\n",
        "                              nn.ReLU(),\n",
        "                              nn.Conv2d(32, 64, 3, 2, 1),\n",
        "                              nn.ReLU(), \n",
        "                              nn.Conv2d(64, 128, 3, 2, 1), \n",
        "                              nn.ReLU(), \n",
        "                              nn.Conv2d(128, 128, 3, 2, 1), \n",
        "                              nn.ReLU())\n",
        "    self.linear = nn.Sequential(nn.Linear(self.const + self.latent_dim, self.hidden_dim), \n",
        "                                nn.ReLU(),\n",
        "                                nn.Linear(self.hidden_dim, self.hidden_dim), \n",
        "                                nn.ReLU(),\n",
        "                                nn.Linear(self.hidden_dim, 1))\n",
        "    \n",
        "  def forward(self, data, z):\n",
        "    data = self.seq(data).flatten(start_dim=1)\n",
        "    data = torch.cat((data, z), 1)\n",
        "    output = self.linear(data)\n",
        "    return output"
      ],
      "metadata": {
        "id": "-apovpN1cuWl"
      },
      "execution_count": null,
      "outputs": []
    },
    {
      "cell_type": "code",
      "source": [
        "class AVB(nn.Module):\n",
        "  def __init__(self, latent_dim, hidden_dim, noise):\n",
        "    super().__init__()\n",
        "    self.hidden_dim = hidden_dim\n",
        "    self.latent_dim = latent_dim\n",
        "\n",
        "    self.zeroes_ld = torch.full(self.latent_dim, 0.0, dtype=torch.float, device=device)\n",
        "    self.diagonal_ld = torch.eye(self.latent_dim, dtype=torch.float, device=device)\n",
        "    self.latent_distribution = MultivariateNormal(self.zeroes_ld, self.diagonal_ld)\n",
        "\n",
        "    self.noise = noise\n",
        "    self.zeroes_n = torch.full(self.noise, 0.0, dtype=torch.float, device=device)\n",
        "    self.diagonal_n = torch.eye(self.noise, dtype=torch.float, device=device)\n",
        "    self.noise_distribution = MultivariateNormal(self.zeroes_n, self.diagonal_n)        \n",
        "    \n",
        "    self.T = Classifier(self.latent_dim, self.hidden_dim)\n",
        "    self.E = Encoder(self.latent_dim, self.noise)\n",
        "    self.D = Decoder(self.latent_dim)\n",
        "  \n",
        "  def get_losses(self, data):\n",
        "    data = data.to(device)\n",
        "    size = data.shape[0]\n",
        "\n",
        "    sample_noise = self.noise_distribution.sample((size,))\n",
        "    encode_d_n = self.E(data, sample_noise)\n",
        "    encode_d_n_copy = encode_d_n.clone()\n",
        "    recon_data = self.D(encode_d_n)\n",
        "    loss_record = F.mse_loss(recon_data, data, reduction=\"none\")\n",
        "    print(loss_record)\n",
        "    print(loss_record.shape)\n",
        "    loss_record = loss_record.sum((-1, -2, -3))\n",
        "    loss_record_T = self.T(data, encode_d_n_copy)\n",
        "    elbo = loss_record + loss_record_T\n",
        "    elbo = elbo.mean()\n",
        "\n",
        "    for_class_real = self.E(data, self.noise_distribution.sample((size,)))\n",
        "    for_class_fake = self.latent_distribution.sample((size,))\n",
        "\n",
        "    sigmoid_real = torch.sigmoid(self.T(data, for_class_real.detach()))\n",
        "    for_class_real_ones = torch.ones_like(sigmoid_real)\n",
        "    for_class_real_loss = F.binary_cross_entropy(sigmoid_real, for_class_real_ones)\n",
        "\n",
        "    sigmoid_fake = torch.sigmoid(self.T(data, for_class_fake.detach()))\n",
        "    for_class_fake_zero = torch.zeros_like(sigmoid_fake)\n",
        "    for_class_fake_loss = F.binary_cross_entropy(sigmoid_fake, for_class_fake_zero)\n",
        "    \n",
        "    classification = for_class_real_loss + for_class_fake_loss\n",
        "    classification = classification.mean()\n",
        "\n",
        "    return elbo, classification \n",
        "\n",
        "  def for_test(self, data):\n",
        "    with torch.no_grad():\n",
        "      self.eval()\n",
        "      elbo_loss, classification_loss = [], []\n",
        "\n",
        "      for batch in data:\n",
        "        batch = batch.to(device)\n",
        "        elbo, classification = self.get_losses(batch)\n",
        "        elbo_loss.append(elbo.item())\n",
        "        classification_loss.append(classification.item())\n",
        "      elbo_loss = np.asarray(elbo_loss).mean()\n",
        "      classification_loss = np.asarray(classification_loss).mean()\n",
        "    return [elbo_loss, classification_loss]\n",
        "\n",
        "  def fit(self, train_data, test_data, lr, epochs):\n",
        "    optim_class = Adam(self.T.parameters(), lr=lr) \n",
        "    opt_E_param = list(self.E.parameters())\n",
        "    opt_D_param = list(self.D.parameters())\n",
        "    optim_E_D = Adam(opt_E_param + opt_D_param, lr=lr)\n",
        "\n",
        "    loss_train, loss_test = [], []\n",
        "    loss_test.append(self.for_test(test_data))\n",
        "\n",
        "    for epoch in tqdm(range(epochs)):\n",
        "      for batch in train_data:\n",
        "        batch = batch.to(device)\n",
        "\n",
        "        elbo, classification = self.get_losses(batch)\n",
        "\n",
        "        optim_E_D.zero_grad()\n",
        "        elbo.backward()\n",
        "        optim_E_D.step()\n",
        "\n",
        "        optim_class.zero_grad()\n",
        "        classification.backward()\n",
        "        optim_class.step()\n",
        "        \n",
        "        loss_train_list = [elbo.item(), classification.item()]\n",
        "        loss_train.append(loss_train_list)\n",
        "\n",
        "      loss_test.append(self.for_test(test_data))\n",
        "    loss_train = np.array(loss_train)\n",
        "    loss_test = np.array(loss_test)\n",
        "    return loss_train[:, 0], loss_train[:, 1], loss_test[:, 0], loss_test[:, 1]\n",
        "  \n",
        "  def get_smples(self, n):\n",
        "    out = torch.sigmoid(self.D(self.latent_distribution.sample((n, ))))\n",
        "    out = out.detach().cpu().numpy()\n",
        "    return out \n"
      ],
      "metadata": {
        "id": "I71Da3Y-DGAV"
      },
      "execution_count": null,
      "outputs": []
    },
    {
      "cell_type": "code",
      "source": [
        "params = {'latent_dim': 64, \n",
        "          'hidden_dim': 256, \n",
        "          'noise': 16,\n",
        "          'batch_size': 256,\n",
        "          'lr': 1e-3,\n",
        "          'epochs': 20,\n",
        "          'n': 100}"
      ],
      "metadata": {
        "id": "OaQStpjjPwL6"
      },
      "execution_count": null,
      "outputs": []
    },
    {
      "cell_type": "code",
      "source": [
        "def q2(train_data, test_data):\n",
        "  \"\"\"\n",
        "  train_data - A (n_train, 28, 28, 1) uint8 numpy array of binary images with values in {0, 1}\n",
        "   Returns\n",
        "  - a (# of training iterations,) numpy array of elbo_losses evaluated every minibatch\n",
        "  - a (# of training iterations,) numpy array of classifier_losses evaluated every minibatch\n",
        "  - a torch tensor of size (100, 1, 28, 28) of samples with values in {0, 1}\n",
        "  \"\"\"\n",
        "\n",
        "  train = DataLoader(torch.tensor(np.transpose(train_data, (0, 3, 1, 2)), dtype=torch.float32), \n",
        "                    batch_size=params['batch_size'], \n",
        "                    shuffle=True)\n",
        "  test = DataLoader(torch.tensor(np.transpose(test_data, (0, 3, 1, 2)), dtype=torch.float32),\n",
        "                    batch_size=params['batch_size'], \n",
        "                    shuffle=True)\n",
        "\n",
        "  model_AVB = AVB(latent_dim=params['latent_dim'], \n",
        "                  hidden_dim=params['hidden_dim'], \n",
        "                  noise=params['noise'])\n",
        "  model_AVB = model_AVB.to(device)\n",
        "  print('done with init')\n",
        "  loss_train_0, loss_train_1, loss_test_0, loss_test_1 = model_AVB.fit(train, \n",
        "                                                                        test, \n",
        "                                                                        lr=params['lr'],\n",
        "                                                                        epochs=params['epochs'])\n",
        "  print('done with losses')  \n",
        "  sample = model_AVB.get_smples(params['n'])\n",
        "  print('done with samples')  \n",
        "\n",
        "  return loss_train_0, loss_train_1, loss_test_0, loss_test_1, sample"
      ],
      "metadata": {
        "id": "IFeqntQsUkYG"
      },
      "execution_count": null,
      "outputs": []
    },
    {
      "cell_type": "code",
      "source": [
        "q2_results(q2)"
      ],
      "metadata": {
        "id": "_Kvk3MMY8lH_",
        "colab": {
          "base_uri": "https://localhost:8080/",
          "height": 940,
          "referenced_widgets": [
            "a35424a288944a08be3dd123041797da",
            "df024c9994e14bbba356608a308e784a",
            "05fec2011c194d3e9d2c94188fb4702f",
            "1fd6151f101945eb829c99c965573bd7",
            "b593df0c6558450db22e0b3628e6b4ea",
            "733af941c4a943ef9e2ba20d6df12764",
            "4bdd250f81f14d6d9eb736d0aa10aa39",
            "97411a2300cb4dcd8fc8b4b19a5ac8da",
            "47bb800589604988a46b21d2da38818f",
            "8ef7717ad5eb4dfc956f88a3bfab4e55",
            "9cc9389357604eb4b2ac09ea10bd0e34"
          ]
        },
        "outputId": "684a4480-83f5-4a4e-b0c9-a16abed22a49"
      },
      "execution_count": null,
      "outputs": [
        {
          "output_type": "stream",
          "name": "stdout",
          "text": [
            "done with init\n"
          ]
        },
        {
          "output_type": "display_data",
          "data": {
            "application/vnd.jupyter.widget-view+json": {
              "model_id": "a35424a288944a08be3dd123041797da",
              "version_minor": 0,
              "version_major": 2
            },
            "text/plain": [
              "  0%|          | 0/20 [00:00<?, ?it/s]"
            ]
          },
          "metadata": {}
        },
        {
          "output_type": "stream",
          "name": "stdout",
          "text": [
            "done with losses\n",
            "done with samples\n"
          ]
        },
        {
          "output_type": "display_data",
          "data": {
            "image/png": "[encoded data removed]",
            "text/plain": [
              "<Figure size 432x288 with 1 Axes>"
            ]
          },
          "metadata": {
            "needs_background": "light"
          }
        },
        {
          "output_type": "display_data",
          "data": {
            "image/png": "[encoded data removed]",
            "text/plain": [
              "<Figure size 720x720 with 1 Axes>"
            ]
          },
          "metadata": {
            "needs_background": "light"
          }
        }
      ]
    },
    {
      "cell_type": "code",
      "source": [
        ""
      ],
      "metadata": {
        "id": "UvY7ZnKOf_p3"
      },
      "execution_count": null,
      "outputs": []
    }
  ]
}