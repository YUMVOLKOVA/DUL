{
  "nbformat": 4,
  "nbformat_minor": 0,
  "metadata": {
    "colab": {
      "name": "Homework9_ebm.ipynb.txt",
      "provenance": [],
      "collapsed_sections": [],
      "include_colab_link": true
    },
    "kernelspec": {
      "name": "python3",
      "display_name": "Python 3"
    },
    "language_info": {
      "name": "python"
    },
    "widgets": {
      "application/vnd.jupyter.widget-state+json": {
        "1f7b59b96130483b8dcb6cdb21d3cf88": {
          "model_module": "@jupyter-widgets/controls",
          "model_name": "HBoxModel",
          "model_module_version": "1.5.0",
          "state": {
            "_view_name": "HBoxView",
            "_dom_classes": [],
            "_model_name": "HBoxModel",
            "_view_module": "@jupyter-widgets/controls",
            "_model_module_version": "1.5.0",
            "_view_count": null,
            "_view_module_version": "1.5.0",
            "box_style": "",
            "layout": "IPY_MODEL_88cae86161ba492bbc003e9c26d5df1f",
            "_model_module": "@jupyter-widgets/controls",
            "children": [
              "IPY_MODEL_511e11bc5dd547d9acc90d36b270eb18",
              "IPY_MODEL_d1d50dfbae644a3a9e65000568457cf8",
              "IPY_MODEL_0af639cef9394d458e653b11b249d917"
            ]
          }
        },
        "88cae86161ba492bbc003e9c26d5df1f": {
          "model_module": "@jupyter-widgets/base",
          "model_name": "LayoutModel",
          "model_module_version": "1.2.0",
          "state": {
            "_view_name": "LayoutView",
            "grid_template_rows": null,
            "right": null,
            "justify_content": null,
            "_view_module": "@jupyter-widgets/base",
            "overflow": null,
            "_model_module_version": "1.2.0",
            "_view_count": null,
            "flex_flow": null,
            "width": null,
            "min_width": null,
            "border": null,
            "align_items": null,
            "bottom": null,
            "_model_module": "@jupyter-widgets/base",
            "top": null,
            "grid_column": null,
            "overflow_y": null,
            "overflow_x": null,
            "grid_auto_flow": null,
            "grid_area": null,
            "grid_template_columns": null,
            "flex": null,
            "_model_name": "LayoutModel",
            "justify_items": null,
            "grid_row": null,
            "max_height": null,
            "align_content": null,
            "visibility": null,
            "align_self": null,
            "height": null,
            "min_height": null,
            "padding": null,
            "grid_auto_rows": null,
            "grid_gap": null,
            "max_width": null,
            "order": null,
            "_view_module_version": "1.2.0",
            "grid_template_areas": null,
            "object_position": null,
            "object_fit": null,
            "grid_auto_columns": null,
            "margin": null,
            "display": null,
            "left": null
          }
        },
        "511e11bc5dd547d9acc90d36b270eb18": {
          "model_module": "@jupyter-widgets/controls",
          "model_name": "HTMLModel",
          "model_module_version": "1.5.0",
          "state": {
            "_view_name": "HTMLView",
            "style": "IPY_MODEL_608537c53a674b819e56e1521d13bfeb",
            "_dom_classes": [],
            "description": "",
            "_model_name": "HTMLModel",
            "placeholder": "​",
            "_view_module": "@jupyter-widgets/controls",
            "_model_module_version": "1.5.0",
            "value": "  0%",
            "_view_count": null,
            "_view_module_version": "1.5.0",
            "description_tooltip": null,
            "_model_module": "@jupyter-widgets/controls",
            "layout": "IPY_MODEL_0e52fbd468c04a5198b4f5bab07a86e6"
          }
        },
        "d1d50dfbae644a3a9e65000568457cf8": {
          "model_module": "@jupyter-widgets/controls",
          "model_name": "FloatProgressModel",
          "model_module_version": "1.5.0",
          "state": {
            "_view_name": "ProgressView",
            "style": "IPY_MODEL_bb94d5e446fe413c83372292eb2af824",
            "_dom_classes": [],
            "description": "",
            "_model_name": "FloatProgressModel",
            "bar_style": "",
            "max": 20,
            "_view_module": "@jupyter-widgets/controls",
            "_model_module_version": "1.5.0",
            "value": 0,
            "_view_count": null,
            "_view_module_version": "1.5.0",
            "orientation": "horizontal",
            "min": 0,
            "description_tooltip": null,
            "_model_module": "@jupyter-widgets/controls",
            "layout": "IPY_MODEL_e4ab8275866f48e2b0b5336302d8a582"
          }
        },
        "0af639cef9394d458e653b11b249d917": {
          "model_module": "@jupyter-widgets/controls",
          "model_name": "HTMLModel",
          "model_module_version": "1.5.0",
          "state": {
            "_view_name": "HTMLView",
            "style": "IPY_MODEL_401e4ac9c857457f9138768b911c367b",
            "_dom_classes": [],
            "description": "",
            "_model_name": "HTMLModel",
            "placeholder": "​",
            "_view_module": "@jupyter-widgets/controls",
            "_model_module_version": "1.5.0",
            "value": " 0/20 [00:00&lt;?, ?it/s]",
            "_view_count": null,
            "_view_module_version": "1.5.0",
            "description_tooltip": null,
            "_model_module": "@jupyter-widgets/controls",
            "layout": "IPY_MODEL_d55575bc400a40b49d70cc168c4fcabb"
          }
        },
        "608537c53a674b819e56e1521d13bfeb": {
          "model_module": "@jupyter-widgets/controls",
          "model_name": "DescriptionStyleModel",
          "model_module_version": "1.5.0",
          "state": {
            "_view_name": "StyleView",
            "_model_name": "DescriptionStyleModel",
            "description_width": "",
            "_view_module": "@jupyter-widgets/base",
            "_model_module_version": "1.5.0",
            "_view_count": null,
            "_view_module_version": "1.2.0",
            "_model_module": "@jupyter-widgets/controls"
          }
        },
        "0e52fbd468c04a5198b4f5bab07a86e6": {
          "model_module": "@jupyter-widgets/base",
          "model_name": "LayoutModel",
          "model_module_version": "1.2.0",
          "state": {
            "_view_name": "LayoutView",
            "grid_template_rows": null,
            "right": null,
            "justify_content": null,
            "_view_module": "@jupyter-widgets/base",
            "overflow": null,
            "_model_module_version": "1.2.0",
            "_view_count": null,
            "flex_flow": null,
            "width": null,
            "min_width": null,
            "border": null,
            "align_items": null,
            "bottom": null,
            "_model_module": "@jupyter-widgets/base",
            "top": null,
            "grid_column": null,
            "overflow_y": null,
            "overflow_x": null,
            "grid_auto_flow": null,
            "grid_area": null,
            "grid_template_columns": null,
            "flex": null,
            "_model_name": "LayoutModel",
            "justify_items": null,
            "grid_row": null,
            "max_height": null,
            "align_content": null,
            "visibility": null,
            "align_self": null,
            "height": null,
            "min_height": null,
            "padding": null,
            "grid_auto_rows": null,
            "grid_gap": null,
            "max_width": null,
            "order": null,
            "_view_module_version": "1.2.0",
            "grid_template_areas": null,
            "object_position": null,
            "object_fit": null,
            "grid_auto_columns": null,
            "margin": null,
            "display": null,
            "left": null
          }
        },
        "bb94d5e446fe413c83372292eb2af824": {
          "model_module": "@jupyter-widgets/controls",
          "model_name": "ProgressStyleModel",
          "model_module_version": "1.5.0",
          "state": {
            "_view_name": "StyleView",
            "_model_name": "ProgressStyleModel",
            "description_width": "",
            "_view_module": "@jupyter-widgets/base",
            "_model_module_version": "1.5.0",
            "_view_count": null,
            "_view_module_version": "1.2.0",
            "bar_color": null,
            "_model_module": "@jupyter-widgets/controls"
          }
        },
        "e4ab8275866f48e2b0b5336302d8a582": {
          "model_module": "@jupyter-widgets/base",
          "model_name": "LayoutModel",
          "model_module_version": "1.2.0",
          "state": {
            "_view_name": "LayoutView",
            "grid_template_rows": null,
            "right": null,
            "justify_content": null,
            "_view_module": "@jupyter-widgets/base",
            "overflow": null,
            "_model_module_version": "1.2.0",
            "_view_count": null,
            "flex_flow": null,
            "width": null,
            "min_width": null,
            "border": null,
            "align_items": null,
            "bottom": null,
            "_model_module": "@jupyter-widgets/base",
            "top": null,
            "grid_column": null,
            "overflow_y": null,
            "overflow_x": null,
            "grid_auto_flow": null,
            "grid_area": null,
            "grid_template_columns": null,
            "flex": null,
            "_model_name": "LayoutModel",
            "justify_items": null,
            "grid_row": null,
            "max_height": null,
            "align_content": null,
            "visibility": null,
            "align_self": null,
            "height": null,
            "min_height": null,
            "padding": null,
            "grid_auto_rows": null,
            "grid_gap": null,
            "max_width": null,
            "order": null,
            "_view_module_version": "1.2.0",
            "grid_template_areas": null,
            "object_position": null,
            "object_fit": null,
            "grid_auto_columns": null,
            "margin": null,
            "display": null,
            "left": null
          }
        },
        "401e4ac9c857457f9138768b911c367b": {
          "model_module": "@jupyter-widgets/controls",
          "model_name": "DescriptionStyleModel",
          "model_module_version": "1.5.0",
          "state": {
            "_view_name": "StyleView",
            "_model_name": "DescriptionStyleModel",
            "description_width": "",
            "_view_module": "@jupyter-widgets/base",
            "_model_module_version": "1.5.0",
            "_view_count": null,
            "_view_module_version": "1.2.0",
            "_model_module": "@jupyter-widgets/controls"
          }
        },
        "d55575bc400a40b49d70cc168c4fcabb": {
          "model_module": "@jupyter-widgets/base",
          "model_name": "LayoutModel",
          "model_module_version": "1.2.0",
          "state": {
            "_view_name": "LayoutView",
            "grid_template_rows": null,
            "right": null,
            "justify_content": null,
            "_view_module": "@jupyter-widgets/base",
            "overflow": null,
            "_model_module_version": "1.2.0",
            "_view_count": null,
            "flex_flow": null,
            "width": null,
            "min_width": null,
            "border": null,
            "align_items": null,
            "bottom": null,
            "_model_module": "@jupyter-widgets/base",
            "top": null,
            "grid_column": null,
            "overflow_y": null,
            "overflow_x": null,
            "grid_auto_flow": null,
            "grid_area": null,
            "grid_template_columns": null,
            "flex": null,
            "_model_name": "LayoutModel",
            "justify_items": null,
            "grid_row": null,
            "max_height": null,
            "align_content": null,
            "visibility": null,
            "align_self": null,
            "height": null,
            "min_height": null,
            "padding": null,
            "grid_auto_rows": null,
            "grid_gap": null,
            "max_width": null,
            "order": null,
            "_view_module_version": "1.2.0",
            "grid_template_areas": null,
            "object_position": null,
            "object_fit": null,
            "grid_auto_columns": null,
            "margin": null,
            "display": null,
            "left": null
          }
        }
      }
    }
  },
  "cells": [
    {
      "cell_type": "markdown",
      "metadata": {
        "id": "view-in-github",
        "colab_type": "text"
      },
      "source": [
        "<a href=\"https://colab.research.google.com/github/YUMVOLKOVA/dul_2021/blob/main/hw9/Homework9_ebm.ipynb\" target=\"_parent\"><img src=\"https://colab.research.google.com/assets/colab-badge.svg\" alt=\"Open In Colab\"/></a>"
      ]
    },
    {
      "cell_type": "code",
      "source": [
        "!if [ -d dul_2021 ]; then rm -Rf dul_2021; fi\n",
        "!git clone https://github.com/GrigoryBartosh/dul_2021\n",
        "!pip install ./dul_2021"
      ],
      "metadata": {
        "colab": {
          "base_uri": "https://localhost:8080/"
        },
        "id": "-ByWitS_XMo8",
        "outputId": "05ca78ae-d48f-4c5d-aa81-ac05edb00c0c"
      },
      "execution_count": 8,
      "outputs": [
        {
          "output_type": "stream",
          "name": "stdout",
          "text": [
            "Cloning into 'dul_2021'...\n",
            "remote: Enumerating objects: 303, done.\u001b[K\n",
            "remote: Counting objects: 100% (140/140), done.\u001b[K\n",
            "remote: Compressing objects: 100% (79/79), done.\u001b[K\n",
            "remote: Total 303 (delta 80), reused 70 (delta 56), pack-reused 163\u001b[K\n",
            "Receiving objects: 100% (303/303), 54.17 MiB | 35.04 MiB/s, done.\n",
            "Resolving deltas: 100% (137/137), done.\n",
            "Processing ./dul_2021\n",
            "\u001b[33m  DEPRECATION: A future pip version will change local packages to be built in-place without first copying to a temporary directory. We recommend you use --use-feature=in-tree-build to test your packages with this new behavior before it becomes the default.\n",
            "   pip 21.3 will remove support for this functionality. You can find discussion regarding this at https://github.com/pypa/pip/issues/7555.\u001b[0m\n",
            "Building wheels for collected packages: dul-2021\n",
            "  Building wheel for dul-2021 (setup.py) ... \u001b[?25l\u001b[?25hdone\n",
            "  Created wheel for dul-2021: filename=dul_2021-0.1.0-py3-none-any.whl size=24553 sha256=e572e45fb55e50539698ae52f58f27def22befec270cdff8feba4389da8ff3b7\n",
            "  Stored in directory: /tmp/pip-ephem-wheel-cache-sue6dk26/wheels/55/59/29/0fb1c635652157734f4d741f32fc11979149684e83e919de06\n",
            "Successfully built dul-2021\n",
            "Installing collected packages: dul-2021\n",
            "  Attempting uninstall: dul-2021\n",
            "    Found existing installation: dul-2021 0.1.0\n",
            "    Uninstalling dul-2021-0.1.0:\n",
            "      Successfully uninstalled dul-2021-0.1.0\n",
            "Successfully installed dul-2021-0.1.0\n"
          ]
        }
      ]
    },
    {
      "cell_type": "code",
      "source": [
        "from dul_2021.utils.hw9_utils import *"
      ],
      "metadata": {
        "id": "LeFGGzuxB63K"
      },
      "execution_count": 9,
      "outputs": []
    },
    {
      "cell_type": "markdown",
      "source": [
        "# Question 1: EBM on MNIST"
      ],
      "metadata": {
        "id": "dFcrPb9xsEN6"
      }
    },
    {
      "cell_type": "markdown",
      "source": [
        "Here we will implement EBM on MNIST data. \n",
        "\n",
        "* **Architecture.** You may experiment with different hyperparameters and architecture designs, but \n",
        "the following designs for the EBM architecture may be useful.\n",
        "\n",
        "```\n",
        "    Conv2d(1, 16, 5, 2, 4), \n",
        "    Swish(),\n",
        "    Conv2d(16, 32, 3, 2, 1),\n",
        "    Swish(), \n",
        "    Conv2d(32, 64, 3, 2, 1), \n",
        "    Swish(), \n",
        "    Conv2d(64, 64, 3, 2, 1), \n",
        "    Swish(),\n",
        "    Flatten(),\n",
        "    Linear(256, 64), \n",
        "    Swish(),\n",
        "    Linear(64, 1)\n",
        "```\n",
        "\n",
        "\n",
        "Where `swish(x) = σ(x)x`. You **should** use activation with non-sparse gradients for better MCMC convergence.\n",
        "\n",
        "* **Buffer.** To use the contrastive divergence objective, we need to generate samples during training. Because of high dimension of image space we need a lot of iterations in MCMC to obtain reasonable samples. We can reduce sampling cost with buffer trick. The idea of this trick it to re-use previous samples as starting points for MCMC (since distribuionts are close). In our implementation, we initialize 95% of starting points with previous samples and 5% with random noise from -1 to 1. \n",
        "\n",
        "* **MCMC.** During MCMC procedure you only need gradients wrt input. You can find it helpful to disable gradients of your model during MCMC. Since all images are in [-1, 1] you should clamp all resulting points during MCMC step. We also clamp gradients to [-0.03, 0.03].\n",
        "    ```\n",
        "    for p in model.parameters():\n",
        "        p.requires_grad = False\n",
        "    ```\n",
        "\n",
        "* **Regularizations.**\n",
        "\n",
        " You should add small noise to real data otherwise ebm will focus on black areas of real images won't train.\n",
        "\n",
        " Add l2 regularaztion to ebm outputs on real and fake data. Otherwise, the output values will fluctuate in a very large range (because energy is invariant to scalar shift).\n",
        "\n",
        "* **Hyperparameters**\n",
        "    * Max buffer size - 8192\n",
        "    * MCMC step size - 10\n",
        "    * MCMC # step - 60\n",
        "    * MCMC noise - N(0, 0.005)\n",
        "    * Noise to data - N(0, 0.005)\n",
        "    * l2 reg weight - 0.1\n",
        "    * batch_size - 128\n",
        "    * use Adam with lr=1e-3 and betas=(0, 0.999)\n",
        "    * you can exponential scheduler\n",
        "    * 20 epochs should be enough (~1 hour on gpu)\n",
        "\n",
        "\n",
        "\n",
        "**You will provide the following deliverables**\n",
        "\n",
        "\n",
        "1.   Over the course of training, record the regularization and contrastive losses per batch.\n",
        "2. 100 samples from your trained EBM"
      ],
      "metadata": {
        "id": "vBkH8uuiywTC"
      }
    },
    {
      "cell_type": "code",
      "source": [
        "import torch\n",
        "import torch.nn as nn\n",
        "from torch.optim import Adam\n",
        "from torch.utils.data import DataLoader\n",
        "from tqdm.notebook import tqdm\n",
        "import math"
      ],
      "metadata": {
        "id": "8D4sv6JfgdWT"
      },
      "execution_count": 10,
      "outputs": []
    },
    {
      "cell_type": "code",
      "source": [
        "device = torch.device(\"cuda:0\") if torch.cuda.is_available() else torch.device(\"cpu\")"
      ],
      "metadata": {
        "id": "zH8QYRwbhIjK"
      },
      "execution_count": 11,
      "outputs": []
    },
    {
      "cell_type": "code",
      "source": [
        "class BUFFER:\n",
        "  def __init__(self, max_buffer_size=8192):\n",
        "    self.max_buffer_size = max_buffer_size\n",
        "    self.size, self.count = 0, 0\n",
        "    self.buffer = torch.Tensor(self.max_buffer_size, 1, 28, 28)\n",
        "    self.buffer = self.buffer.uniform_(-1, 1)\n",
        "\n",
        "  def add(self, data):\n",
        "    current_number = data.shape[0]\n",
        "    required_space = current_number + self.count\n",
        "\n",
        "    if required_space <= self.max_buffer_size:\n",
        "      self.buffer[self.count : required_space] = data\n",
        "    else:\n",
        "      available_space = self.max_buffer_size - self.count\n",
        "      remains = current_number - available_space\n",
        "      self.buffer[-available_space:] = data[:available_space]\n",
        "      self.buffer[:remains] = data[remains:]\n",
        "    self.size = min(self.max_buffer_size, self.size + 1)\n",
        "    self.count = required_space % self.max_buffer_size\n",
        "\n",
        "  def sample(self, n):\n",
        "    index = torch.randint(0, self.max_buffer_size, (n,))\n",
        "    for_sample = self.buffer[index]\n",
        "    return for_sample\n"
      ],
      "metadata": {
        "id": "HMrsiYvjdD0b"
      },
      "execution_count": 26,
      "outputs": []
    },
    {
      "cell_type": "code",
      "source": [
        "class EBM(nn.Module):\n",
        "  def __init__(self, max_buffer_size=8192, l2_reg_weight=0.1, mcmc_step_size=10, mcmc_n_step=60, con_for_noise=0.005):\n",
        "    super().__init__()\n",
        "    self.max_buffer_size = max_buffer_size\n",
        "    self.buffer = BUFFER(self.max_buffer_size)\n",
        "    self.l2_reg_weight = l2_reg_weight    \n",
        "    self.mcmc_step_size = mcmc_step_size\n",
        "    self.mcmc_n_step = mcmc_n_step\n",
        "    self.con_for_noise = con_for_noise\n",
        "    self.architecture = nn.Sequential(nn.Conv2d(1, 16, 5, 2, 4),             \n",
        "                                      nn.SiLU(),\n",
        "                                      nn.Conv2d(16, 32, 3, 2, 1),\n",
        "                                      nn.SiLU(), \n",
        "                                      nn.Conv2d(32, 64, 3, 2, 1), \n",
        "                                      nn.SiLU(), \n",
        "                                      nn.Conv2d(64, 64, 3, 2, 1), \n",
        "                                      nn.SiLU(),\n",
        "                                      nn.Flatten(),\n",
        "                                      nn.Linear(256, 64), \n",
        "                                      nn.SiLU(),\n",
        "                                      nn.Linear(64, 1))\n",
        "    \n",
        "  def disable_gradients(self, disable=False):\n",
        "    for p in self.architecture.parameters():\n",
        "        p.requires_grad = not(disable)\n",
        "\n",
        "  def sample_fake(self, n):\n",
        "    self.disable_gradients(True)\n",
        "    self.architecture.eval()\n",
        "    limit = int(n * 0.95)\n",
        "\n",
        "    for_buffer = self.buffer.sample(limit)\n",
        "    for_noise = torch.Tensor(n - limit, 1, 28, 28)\n",
        "    for_noise = for_noise.uniform_(-1, 1)\n",
        "    data = torch.vstack([for_buffer, for_noise]).to(device)\n",
        "    data.requires_grad = True    \n",
        "\n",
        "    for i in range(self.mcmc_n_step):\n",
        "      z = self.con_for_noise * torch.randn_like(data)\n",
        "      e = self.mcmc_step_size - ((i * self.mcmc_step_size) / self.mcmc_n_step)\n",
        "      aut_grad_energy = torch.autograd.grad(self.architecture(data).sum(), data)\n",
        "      log_p = torch.clip(aut_grad_energy[0], -0.03, 0.03)\n",
        "      data = torch.clip(data + e * log_p + math.sqrt(e * 2) * z, -1, 1)\n",
        "\n",
        "    self.buffer.add(data.detach().cpu())\n",
        "    self.disable_gradients(False)\n",
        "    self.architecture.train()\n",
        "    return data\n",
        "\n",
        "  def get_loss(self, data):\n",
        "    data_size = data.shape[0]\n",
        "    noise = self.con_for_noise * torch.randn_like(data)\n",
        "\n",
        "    real_samples = data + noise\n",
        "    real_energy = self.architecture(real_samples)\n",
        "\n",
        "    fake_samples = self.sample_fake(data_size).to(device)\n",
        "    fake_energy = self.architecture(fake_samples)\n",
        "\n",
        "    c_loss = fake_energy.mean() - real_energy.mean()\n",
        "    r_loss = (real_energy ** 2 + fake_energy ** 2).mean()\n",
        "    return r_loss, c_loss\n",
        "\n",
        "  def fit(self, data, lr=1e-3, betas=(0, 0.999), epochs=20):\n",
        "    optimizer = Adam(self.parameters(), lr=lr, betas=betas)\n",
        "    regularization_losses, contrastive_losses = [], []\n",
        "\n",
        "    for epoch in tqdm(range(epochs)):\n",
        "      for batch, i in data:\n",
        "        batch = batch.to(device)\n",
        "        regularization_loss, contrastive_loss = self.get_loss(batch)\n",
        "\n",
        "        regularization_losses.append(regularization_loss.item())\n",
        "        contrastive_losses.append(contrastive_loss.item())\n",
        "\n",
        "        total_loss = regularization_loss * self.l2_reg_weight + contrastive_loss\n",
        "\n",
        "        optimizer.zero_grad()\n",
        "        total_loss.backward()\n",
        "        optimizer.step()\n",
        "\n",
        "    return regularization_losses, contrastive_losses"
      ],
      "metadata": {
        "id": "Werz8LeScE88"
      },
      "execution_count": 27,
      "outputs": []
    },
    {
      "cell_type": "code",
      "source": [
        "params = {'max_buffer_size': 8192,\n",
        "          'mcmc_step_size': 10,\n",
        "          'mcmc_n_step': 60,\n",
        "          'l2_reg_weight': 0.1,\n",
        "          'batch_size': 128,\n",
        "          'lr': 1e-3,\n",
        "          'betas': (0, 0.999),\n",
        "          'epochs': 20,\n",
        "          'n': 100,\n",
        "          'con_for_noise': 0.005}"
      ],
      "metadata": {
        "id": "xzOJINiIIxk1"
      },
      "execution_count": 28,
      "outputs": []
    },
    {
      "cell_type": "code",
      "source": [
        "def q1(train_data):\n",
        "    \"\"\"\n",
        "    train_data: An (n_train, 1, 28, 28) torchvision dataset of MNIST images with values from -1 to 1\n",
        "\n",
        "    Returns\n",
        "    - a (# of training iterations, ) numpy array full of contrastive losses on each iteration\n",
        "    - a (# of training iterations, ) numpy array full of regularization losses on each iteration\n",
        "    - a (100, 28, 28, 1) numpy array of 100 samples from ebm model\n",
        "    \"\"\"\n",
        "    dataloader = DataLoader(train_data, batch_size=params['batch_size'], shuffle=True)\n",
        "    model = EBM(params['max_buffer_size'], \n",
        "                params['l2_reg_weight'], \n",
        "                params['mcmc_step_size'], \n",
        "                params['mcmc_n_step'],\n",
        "                params['con_for_noise'])\n",
        "    model = model.to(device)\n",
        "    regularization_losses, contrastive_losses = model.fit(dataloader, \n",
        "                                                          params['lr'], \n",
        "                                                          params['betas'], \n",
        "                                                          params['epochs'])\n",
        "    print('done with losses')\n",
        "    samples = model.sample_fake(params['n']).detach().cpu().numpy()\n",
        "    print('done with samples')\n",
        "\n",
        "    return contrastive_losses, regularization_losses, samples\n",
        "    \n"
      ],
      "metadata": {
        "id": "5f89iZY4o4ZF"
      },
      "execution_count": 29,
      "outputs": []
    },
    {
      "cell_type": "code",
      "source": [
        "q1_results(q1)"
      ],
      "metadata": {
        "colab": {
          "base_uri": "https://localhost:8080/",
          "height": 49,
          "referenced_widgets": [
            "1f7b59b96130483b8dcb6cdb21d3cf88",
            "88cae86161ba492bbc003e9c26d5df1f",
            "511e11bc5dd547d9acc90d36b270eb18",
            "d1d50dfbae644a3a9e65000568457cf8",
            "0af639cef9394d458e653b11b249d917",
            "608537c53a674b819e56e1521d13bfeb",
            "0e52fbd468c04a5198b4f5bab07a86e6",
            "bb94d5e446fe413c83372292eb2af824",
            "e4ab8275866f48e2b0b5336302d8a582",
            "401e4ac9c857457f9138768b911c367b",
            "d55575bc400a40b49d70cc168c4fcabb"
          ]
        },
        "id": "rH7NPZAw9IRA",
        "outputId": "1673003e-d546-46c2-af41-3b7aeba144f7"
      },
      "execution_count": null,
      "outputs": [
        {
          "output_type": "display_data",
          "data": {
            "application/vnd.jupyter.widget-view+json": {
              "model_id": "1f7b59b96130483b8dcb6cdb21d3cf88",
              "version_minor": 0,
              "version_major": 2
            },
            "text/plain": [
              "  0%|          | 0/20 [00:00<?, ?it/s]"
            ]
          },
          "metadata": {}
        }
      ]
    },
    {
      "cell_type": "markdown",
      "source": [
        "# Question 2: EBM conditional generation"
      ],
      "metadata": {
        "id": "ngk19-Usokks"
      }
    },
    {
      "cell_type": "markdown",
      "source": [
        "Here we will train EBM jointly with classifier to generate objects conditioned on class labels. ([original paper](https://arxiv.org/pdf/1912.03263.pdf)).\n",
        "\n",
        "* **Theory**. Here we will work with joint distribution on x (data point) and y (label). We will parametrize probability of the pair as follows\n",
        "\n",
        "```\n",
        "p_θ(x, y) = exp(f_θ(x)[y]) / Z(θ)\n",
        "```\n",
        "Where `f(x)[y]` is an y-th output of the classifier model and `Z(θ)` is a normalization constant.\n",
        "\n",
        "We will optimize log-likelihood of train pair:\n",
        "\n",
        "```\n",
        "log p(x, y) = log p(x) + log p(y|x)\n",
        "```\n",
        "\n",
        "Second term corresponds to normal classification loss and we will optimize it with cross entropy. We will optimize first tirm via contrastive divergence. The energy of can be from classifire output : `E(x)=-log ∑ exp(f_θ(x)[y])`.\n",
        "\n",
        "* **Architecture.** We will work with smile dataset and you can use architecture from practice.\n",
        "\n",
        "* **Hyperparameters**\n",
        "    * Max buffer size - 8192\n",
        "    * MCMC step size - 0.1\n",
        "    * MCMC # step - 500 (during final sampling you can increase it)\n",
        "    * MCMC noise - N(0, 0.005)\n",
        "    * Noise to data - None\n",
        "    * l2 reg weight - 0.1\n",
        "    * batch_size - 128\n",
        "    * use Adam with lr=1e-3 and betas=(0, 0.999)\n",
        "    * you can use exponential scheduler\n",
        "    * 100 epochs should be enough (~10 minutes on cpu)\n",
        "\n",
        "\n",
        "\n",
        "**You will provide the following deliverables**\n",
        "\n",
        "\n",
        "1.   Over the course of training, record loss per batch.\n",
        "3. 300 samples from your trained EBM. First 100 samples should be generated for label 0, next 100 for label 1, and last 100 for label 2"
      ],
      "metadata": {
        "id": "zapL42YYp8zI"
      }
    },
    {
      "cell_type": "code",
      "source": [
        "def q2(train_data, train_labels):\n",
        "    \"\"\"\n",
        "    train_data: An (n_train, 2) np.array of binary points\n",
        "    train_labels: An (n_train, ) np.array labels (3 classes)\n",
        "    Returns\n",
        "    - a (# of training iterations, ) numpy array full of losses on each iteration\n",
        "    - a (300, 2) numpy array of 300 samples from ebm model (0-99 with label 0; 100-199 with label 1; 200-300 with label 2)\n",
        "    \"\"\""
      ],
      "metadata": {
        "id": "tDw5zYhdr0BH"
      },
      "execution_count": null,
      "outputs": []
    },
    {
      "cell_type": "code",
      "source": [
        "q2_results(q2)"
      ],
      "metadata": {
        "colab": {
          "base_uri": "https://localhost:8080/",
          "height": 542
        },
        "id": "CEMsbsP2-5Uz",
        "outputId": "4a1fde77-fa55-4821-f285-6a5e78642d46"
      },
      "execution_count": null,
      "outputs": [
        {
          "output_type": "display_data",
          "data": {
            "image/png": "[encoded data removed]",
            "text/plain": [
              "<Figure size 432x288 with 1 Axes>"
            ]
          },
          "metadata": {
            "needs_background": "light"
          }
        },
        {
          "output_type": "display_data",
          "data": {
            "image/png": "[encoded data removed]",
            "text/plain": [
              "<Figure size 432x288 with 1 Axes>"
            ]
          },
          "metadata": {
            "needs_background": "light"
          }
        }
      ]
    },
    {
      "cell_type": "markdown",
      "source": [
        "# Bonus : Conditional generation with EBM and classifier.\n",
        "\n",
        "Here you need to generate points conditioned on class on smile dataset with independently trained ebm and classifier. For generation use MCMC with\n",
        "\n",
        "```\n",
        "log p(x|y) ~ log p(x) + log p(y|x)\n",
        "```\n",
        "\n",
        "Where first term is `-E(x)` and second is obtained via backprop from trained classifier."
      ],
      "metadata": {
        "id": "Lh4RFxa6ytf5"
      }
    },
    {
      "cell_type": "code",
      "source": [
        "def b(train_data, train_labels):\n",
        "    \"\"\"\n",
        "    train_data: An (n_train, 2) np.array of binary points\n",
        "    train_labels: An (n_train, ) np.array labels (3 classes)\n",
        "    Returns\n",
        "    - a (# of training iterations, ) numpy array full of losses of classfier on each iteration\n",
        "    - a (# of training iterations, ) numpy array full of losses of ebm on each iteration\n",
        "    - a (300, 2) numpy array of 300 samples from ebm model (0-99 with label 0; 100-199 with label 1; 200-300 with label 2)\n",
        "    \"\"\""
      ],
      "metadata": {
        "id": "V3pB997Yrz8P"
      },
      "execution_count": null,
      "outputs": []
    },
    {
      "cell_type": "code",
      "source": [
        "b_results(b)"
      ],
      "metadata": {
        "id": "5UkKBC82KG_O"
      },
      "execution_count": null,
      "outputs": []
    }
  ]
}