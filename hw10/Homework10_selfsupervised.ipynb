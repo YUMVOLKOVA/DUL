{
  "nbformat": 4,
  "nbformat_minor": 0,
  "metadata": {
    "colab": {
      "name": "Homework10_selfsupervised.ipynb.txt",
      "provenance": [],
      "collapsed_sections": []
    },
    "kernelspec": {
      "name": "python3",
      "display_name": "Python 3"
    },
    "language_info": {
      "name": "python"
    },
    "widgets": {
      "application/vnd.jupyter.widget-state+json": {
        "04291ead15fb430c874141b2c16e682c": {
          "model_module": "@jupyter-widgets/controls",
          "model_name": "HBoxModel",
          "model_module_version": "1.5.0",
          "state": {
            "_view_name": "HBoxView",
            "_dom_classes": [],
            "_model_name": "HBoxModel",
            "_view_module": "@jupyter-widgets/controls",
            "_model_module_version": "1.5.0",
            "_view_count": null,
            "_view_module_version": "1.5.0",
            "box_style": "",
            "layout": "IPY_MODEL_23e28e758feb4d008d310a7d24812bf3",
            "_model_module": "@jupyter-widgets/controls",
            "children": [
              "IPY_MODEL_6fc37ede241a45e488ce031d686d19e1",
              "IPY_MODEL_cded13b6b6f74cd1ae1240d9acc05777",
              "IPY_MODEL_16c8c5748d9a4e4b94f843a66f7a162a"
            ]
          }
        },
        "23e28e758feb4d008d310a7d24812bf3": {
          "model_module": "@jupyter-widgets/base",
          "model_name": "LayoutModel",
          "model_module_version": "1.2.0",
          "state": {
            "_view_name": "LayoutView",
            "grid_template_rows": null,
            "right": null,
            "justify_content": null,
            "_view_module": "@jupyter-widgets/base",
            "overflow": null,
            "_model_module_version": "1.2.0",
            "_view_count": null,
            "flex_flow": null,
            "width": null,
            "min_width": null,
            "border": null,
            "align_items": null,
            "bottom": null,
            "_model_module": "@jupyter-widgets/base",
            "top": null,
            "grid_column": null,
            "overflow_y": null,
            "overflow_x": null,
            "grid_auto_flow": null,
            "grid_area": null,
            "grid_template_columns": null,
            "flex": null,
            "_model_name": "LayoutModel",
            "justify_items": null,
            "grid_row": null,
            "max_height": null,
            "align_content": null,
            "visibility": null,
            "align_self": null,
            "height": null,
            "min_height": null,
            "padding": null,
            "grid_auto_rows": null,
            "grid_gap": null,
            "max_width": null,
            "order": null,
            "_view_module_version": "1.2.0",
            "grid_template_areas": null,
            "object_position": null,
            "object_fit": null,
            "grid_auto_columns": null,
            "margin": null,
            "display": null,
            "left": null
          }
        },
        "6fc37ede241a45e488ce031d686d19e1": {
          "model_module": "@jupyter-widgets/controls",
          "model_name": "HTMLModel",
          "model_module_version": "1.5.0",
          "state": {
            "_view_name": "HTMLView",
            "style": "IPY_MODEL_ff75ee045e194c2580523e377256b77d",
            "_dom_classes": [],
            "description": "",
            "_model_name": "HTMLModel",
            "placeholder": "​",
            "_view_module": "@jupyter-widgets/controls",
            "_model_module_version": "1.5.0",
            "value": "100%",
            "_view_count": null,
            "_view_module_version": "1.5.0",
            "description_tooltip": null,
            "_model_module": "@jupyter-widgets/controls",
            "layout": "IPY_MODEL_906296bf23f647ecb986b2f41e4d3342"
          }
        },
        "cded13b6b6f74cd1ae1240d9acc05777": {
          "model_module": "@jupyter-widgets/controls",
          "model_name": "FloatProgressModel",
          "model_module_version": "1.5.0",
          "state": {
            "_view_name": "ProgressView",
            "style": "IPY_MODEL_94cafa9e10a64c41bf0f64055d326de3",
            "_dom_classes": [],
            "description": "",
            "_model_name": "FloatProgressModel",
            "bar_style": "success",
            "max": 10,
            "_view_module": "@jupyter-widgets/controls",
            "_model_module_version": "1.5.0",
            "value": 10,
            "_view_count": null,
            "_view_module_version": "1.5.0",
            "orientation": "horizontal",
            "min": 0,
            "description_tooltip": null,
            "_model_module": "@jupyter-widgets/controls",
            "layout": "IPY_MODEL_7cd403b5b7d049d1a98776ce35c8dec7"
          }
        },
        "16c8c5748d9a4e4b94f843a66f7a162a": {
          "model_module": "@jupyter-widgets/controls",
          "model_name": "HTMLModel",
          "model_module_version": "1.5.0",
          "state": {
            "_view_name": "HTMLView",
            "style": "IPY_MODEL_c78d2df8705e46ff96ee8db303da81a3",
            "_dom_classes": [],
            "description": "",
            "_model_name": "HTMLModel",
            "placeholder": "​",
            "_view_module": "@jupyter-widgets/controls",
            "_model_module_version": "1.5.0",
            "value": " 10/10 [02:10&lt;00:00, 13.20s/it]",
            "_view_count": null,
            "_view_module_version": "1.5.0",
            "description_tooltip": null,
            "_model_module": "@jupyter-widgets/controls",
            "layout": "IPY_MODEL_98cb6c5166f849b992da10b035e51c86"
          }
        },
        "ff75ee045e194c2580523e377256b77d": {
          "model_module": "@jupyter-widgets/controls",
          "model_name": "DescriptionStyleModel",
          "model_module_version": "1.5.0",
          "state": {
            "_view_name": "StyleView",
            "_model_name": "DescriptionStyleModel",
            "description_width": "",
            "_view_module": "@jupyter-widgets/base",
            "_model_module_version": "1.5.0",
            "_view_count": null,
            "_view_module_version": "1.2.0",
            "_model_module": "@jupyter-widgets/controls"
          }
        },
        "906296bf23f647ecb986b2f41e4d3342": {
          "model_module": "@jupyter-widgets/base",
          "model_name": "LayoutModel",
          "model_module_version": "1.2.0",
          "state": {
            "_view_name": "LayoutView",
            "grid_template_rows": null,
            "right": null,
            "justify_content": null,
            "_view_module": "@jupyter-widgets/base",
            "overflow": null,
            "_model_module_version": "1.2.0",
            "_view_count": null,
            "flex_flow": null,
            "width": null,
            "min_width": null,
            "border": null,
            "align_items": null,
            "bottom": null,
            "_model_module": "@jupyter-widgets/base",
            "top": null,
            "grid_column": null,
            "overflow_y": null,
            "overflow_x": null,
            "grid_auto_flow": null,
            "grid_area": null,
            "grid_template_columns": null,
            "flex": null,
            "_model_name": "LayoutModel",
            "justify_items": null,
            "grid_row": null,
            "max_height": null,
            "align_content": null,
            "visibility": null,
            "align_self": null,
            "height": null,
            "min_height": null,
            "padding": null,
            "grid_auto_rows": null,
            "grid_gap": null,
            "max_width": null,
            "order": null,
            "_view_module_version": "1.2.0",
            "grid_template_areas": null,
            "object_position": null,
            "object_fit": null,
            "grid_auto_columns": null,
            "margin": null,
            "display": null,
            "left": null
          }
        },
        "94cafa9e10a64c41bf0f64055d326de3": {
          "model_module": "@jupyter-widgets/controls",
          "model_name": "ProgressStyleModel",
          "model_module_version": "1.5.0",
          "state": {
            "_view_name": "StyleView",
            "_model_name": "ProgressStyleModel",
            "description_width": "",
            "_view_module": "@jupyter-widgets/base",
            "_model_module_version": "1.5.0",
            "_view_count": null,
            "_view_module_version": "1.2.0",
            "bar_color": null,
            "_model_module": "@jupyter-widgets/controls"
          }
        },
        "7cd403b5b7d049d1a98776ce35c8dec7": {
          "model_module": "@jupyter-widgets/base",
          "model_name": "LayoutModel",
          "model_module_version": "1.2.0",
          "state": {
            "_view_name": "LayoutView",
            "grid_template_rows": null,
            "right": null,
            "justify_content": null,
            "_view_module": "@jupyter-widgets/base",
            "overflow": null,
            "_model_module_version": "1.2.0",
            "_view_count": null,
            "flex_flow": null,
            "width": null,
            "min_width": null,
            "border": null,
            "align_items": null,
            "bottom": null,
            "_model_module": "@jupyter-widgets/base",
            "top": null,
            "grid_column": null,
            "overflow_y": null,
            "overflow_x": null,
            "grid_auto_flow": null,
            "grid_area": null,
            "grid_template_columns": null,
            "flex": null,
            "_model_name": "LayoutModel",
            "justify_items": null,
            "grid_row": null,
            "max_height": null,
            "align_content": null,
            "visibility": null,
            "align_self": null,
            "height": null,
            "min_height": null,
            "padding": null,
            "grid_auto_rows": null,
            "grid_gap": null,
            "max_width": null,
            "order": null,
            "_view_module_version": "1.2.0",
            "grid_template_areas": null,
            "object_position": null,
            "object_fit": null,
            "grid_auto_columns": null,
            "margin": null,
            "display": null,
            "left": null
          }
        },
        "c78d2df8705e46ff96ee8db303da81a3": {
          "model_module": "@jupyter-widgets/controls",
          "model_name": "DescriptionStyleModel",
          "model_module_version": "1.5.0",
          "state": {
            "_view_name": "StyleView",
            "_model_name": "DescriptionStyleModel",
            "description_width": "",
            "_view_module": "@jupyter-widgets/base",
            "_model_module_version": "1.5.0",
            "_view_count": null,
            "_view_module_version": "1.2.0",
            "_model_module": "@jupyter-widgets/controls"
          }
        },
        "98cb6c5166f849b992da10b035e51c86": {
          "model_module": "@jupyter-widgets/base",
          "model_name": "LayoutModel",
          "model_module_version": "1.2.0",
          "state": {
            "_view_name": "LayoutView",
            "grid_template_rows": null,
            "right": null,
            "justify_content": null,
            "_view_module": "@jupyter-widgets/base",
            "overflow": null,
            "_model_module_version": "1.2.0",
            "_view_count": null,
            "flex_flow": null,
            "width": null,
            "min_width": null,
            "border": null,
            "align_items": null,
            "bottom": null,
            "_model_module": "@jupyter-widgets/base",
            "top": null,
            "grid_column": null,
            "overflow_y": null,
            "overflow_x": null,
            "grid_auto_flow": null,
            "grid_area": null,
            "grid_template_columns": null,
            "flex": null,
            "_model_name": "LayoutModel",
            "justify_items": null,
            "grid_row": null,
            "max_height": null,
            "align_content": null,
            "visibility": null,
            "align_self": null,
            "height": null,
            "min_height": null,
            "padding": null,
            "grid_auto_rows": null,
            "grid_gap": null,
            "max_width": null,
            "order": null,
            "_view_module_version": "1.2.0",
            "grid_template_areas": null,
            "object_position": null,
            "object_fit": null,
            "grid_auto_columns": null,
            "margin": null,
            "display": null,
            "left": null
          }
        },
        "776d1daef4dd4f63bc0fdb857083f52d": {
          "model_module": "@jupyter-widgets/controls",
          "model_name": "HBoxModel",
          "model_module_version": "1.5.0",
          "state": {
            "_view_name": "HBoxView",
            "_dom_classes": [],
            "_model_name": "HBoxModel",
            "_view_module": "@jupyter-widgets/controls",
            "_model_module_version": "1.5.0",
            "_view_count": null,
            "_view_module_version": "1.5.0",
            "box_style": "",
            "layout": "IPY_MODEL_47c3a71ae4484235923537684f7cd41a",
            "_model_module": "@jupyter-widgets/controls",
            "children": [
              "IPY_MODEL_8feca4892be249f8ac8ad20d5d0da2f4",
              "IPY_MODEL_32ff12bd6a934953a8e3a8f7073f999c",
              "IPY_MODEL_17681ec0bfc84d7cb28ed1f90796823b"
            ]
          }
        },
        "47c3a71ae4484235923537684f7cd41a": {
          "model_module": "@jupyter-widgets/base",
          "model_name": "LayoutModel",
          "model_module_version": "1.2.0",
          "state": {
            "_view_name": "LayoutView",
            "grid_template_rows": null,
            "right": null,
            "justify_content": null,
            "_view_module": "@jupyter-widgets/base",
            "overflow": null,
            "_model_module_version": "1.2.0",
            "_view_count": null,
            "flex_flow": null,
            "width": null,
            "min_width": null,
            "border": null,
            "align_items": null,
            "bottom": null,
            "_model_module": "@jupyter-widgets/base",
            "top": null,
            "grid_column": null,
            "overflow_y": null,
            "overflow_x": null,
            "grid_auto_flow": null,
            "grid_area": null,
            "grid_template_columns": null,
            "flex": null,
            "_model_name": "LayoutModel",
            "justify_items": null,
            "grid_row": null,
            "max_height": null,
            "align_content": null,
            "visibility": null,
            "align_self": null,
            "height": null,
            "min_height": null,
            "padding": null,
            "grid_auto_rows": null,
            "grid_gap": null,
            "max_width": null,
            "order": null,
            "_view_module_version": "1.2.0",
            "grid_template_areas": null,
            "object_position": null,
            "object_fit": null,
            "grid_auto_columns": null,
            "margin": null,
            "display": null,
            "left": null
          }
        },
        "8feca4892be249f8ac8ad20d5d0da2f4": {
          "model_module": "@jupyter-widgets/controls",
          "model_name": "HTMLModel",
          "model_module_version": "1.5.0",
          "state": {
            "_view_name": "HTMLView",
            "style": "IPY_MODEL_68082a7c692b41869e02a8a9d0d23c2e",
            "_dom_classes": [],
            "description": "",
            "_model_name": "HTMLModel",
            "placeholder": "​",
            "_view_module": "@jupyter-widgets/controls",
            "_model_module_version": "1.5.0",
            "value": "100%",
            "_view_count": null,
            "_view_module_version": "1.5.0",
            "description_tooltip": null,
            "_model_module": "@jupyter-widgets/controls",
            "layout": "IPY_MODEL_48aac2dd85034094b27b5c0a357f1bf1"
          }
        },
        "32ff12bd6a934953a8e3a8f7073f999c": {
          "model_module": "@jupyter-widgets/controls",
          "model_name": "FloatProgressModel",
          "model_module_version": "1.5.0",
          "state": {
            "_view_name": "ProgressView",
            "style": "IPY_MODEL_29f894158c754df3a595908928bcc6b9",
            "_dom_classes": [],
            "description": "",
            "_model_name": "FloatProgressModel",
            "bar_style": "success",
            "max": 10,
            "_view_module": "@jupyter-widgets/controls",
            "_model_module_version": "1.5.0",
            "value": 10,
            "_view_count": null,
            "_view_module_version": "1.5.0",
            "orientation": "horizontal",
            "min": 0,
            "description_tooltip": null,
            "_model_module": "@jupyter-widgets/controls",
            "layout": "IPY_MODEL_449421a8df2a458bbaaf3e7c6118a632"
          }
        },
        "17681ec0bfc84d7cb28ed1f90796823b": {
          "model_module": "@jupyter-widgets/controls",
          "model_name": "HTMLModel",
          "model_module_version": "1.5.0",
          "state": {
            "_view_name": "HTMLView",
            "style": "IPY_MODEL_2dec5aa16a094f29a6c8859bd8f209ce",
            "_dom_classes": [],
            "description": "",
            "_model_name": "HTMLModel",
            "placeholder": "​",
            "_view_module": "@jupyter-widgets/controls",
            "_model_module_version": "1.5.0",
            "value": " 10/10 [04:13&lt;00:00, 25.30s/it]",
            "_view_count": null,
            "_view_module_version": "1.5.0",
            "description_tooltip": null,
            "_model_module": "@jupyter-widgets/controls",
            "layout": "IPY_MODEL_0656d54878fa40fcbd0532c7dc1fda3c"
          }
        },
        "68082a7c692b41869e02a8a9d0d23c2e": {
          "model_module": "@jupyter-widgets/controls",
          "model_name": "DescriptionStyleModel",
          "model_module_version": "1.5.0",
          "state": {
            "_view_name": "StyleView",
            "_model_name": "DescriptionStyleModel",
            "description_width": "",
            "_view_module": "@jupyter-widgets/base",
            "_model_module_version": "1.5.0",
            "_view_count": null,
            "_view_module_version": "1.2.0",
            "_model_module": "@jupyter-widgets/controls"
          }
        },
        "48aac2dd85034094b27b5c0a357f1bf1": {
          "model_module": "@jupyter-widgets/base",
          "model_name": "LayoutModel",
          "model_module_version": "1.2.0",
          "state": {
            "_view_name": "LayoutView",
            "grid_template_rows": null,
            "right": null,
            "justify_content": null,
            "_view_module": "@jupyter-widgets/base",
            "overflow": null,
            "_model_module_version": "1.2.0",
            "_view_count": null,
            "flex_flow": null,
            "width": null,
            "min_width": null,
            "border": null,
            "align_items": null,
            "bottom": null,
            "_model_module": "@jupyter-widgets/base",
            "top": null,
            "grid_column": null,
            "overflow_y": null,
            "overflow_x": null,
            "grid_auto_flow": null,
            "grid_area": null,
            "grid_template_columns": null,
            "flex": null,
            "_model_name": "LayoutModel",
            "justify_items": null,
            "grid_row": null,
            "max_height": null,
            "align_content": null,
            "visibility": null,
            "align_self": null,
            "height": null,
            "min_height": null,
            "padding": null,
            "grid_auto_rows": null,
            "grid_gap": null,
            "max_width": null,
            "order": null,
            "_view_module_version": "1.2.0",
            "grid_template_areas": null,
            "object_position": null,
            "object_fit": null,
            "grid_auto_columns": null,
            "margin": null,
            "display": null,
            "left": null
          }
        },
        "29f894158c754df3a595908928bcc6b9": {
          "model_module": "@jupyter-widgets/controls",
          "model_name": "ProgressStyleModel",
          "model_module_version": "1.5.0",
          "state": {
            "_view_name": "StyleView",
            "_model_name": "ProgressStyleModel",
            "description_width": "",
            "_view_module": "@jupyter-widgets/base",
            "_model_module_version": "1.5.0",
            "_view_count": null,
            "_view_module_version": "1.2.0",
            "bar_color": null,
            "_model_module": "@jupyter-widgets/controls"
          }
        },
        "449421a8df2a458bbaaf3e7c6118a632": {
          "model_module": "@jupyter-widgets/base",
          "model_name": "LayoutModel",
          "model_module_version": "1.2.0",
          "state": {
            "_view_name": "LayoutView",
            "grid_template_rows": null,
            "right": null,
            "justify_content": null,
            "_view_module": "@jupyter-widgets/base",
            "overflow": null,
            "_model_module_version": "1.2.0",
            "_view_count": null,
            "flex_flow": null,
            "width": null,
            "min_width": null,
            "border": null,
            "align_items": null,
            "bottom": null,
            "_model_module": "@jupyter-widgets/base",
            "top": null,
            "grid_column": null,
            "overflow_y": null,
            "overflow_x": null,
            "grid_auto_flow": null,
            "grid_area": null,
            "grid_template_columns": null,
            "flex": null,
            "_model_name": "LayoutModel",
            "justify_items": null,
            "grid_row": null,
            "max_height": null,
            "align_content": null,
            "visibility": null,
            "align_self": null,
            "height": null,
            "min_height": null,
            "padding": null,
            "grid_auto_rows": null,
            "grid_gap": null,
            "max_width": null,
            "order": null,
            "_view_module_version": "1.2.0",
            "grid_template_areas": null,
            "object_position": null,
            "object_fit": null,
            "grid_auto_columns": null,
            "margin": null,
            "display": null,
            "left": null
          }
        },
        "2dec5aa16a094f29a6c8859bd8f209ce": {
          "model_module": "@jupyter-widgets/controls",
          "model_name": "DescriptionStyleModel",
          "model_module_version": "1.5.0",
          "state": {
            "_view_name": "StyleView",
            "_model_name": "DescriptionStyleModel",
            "description_width": "",
            "_view_module": "@jupyter-widgets/base",
            "_model_module_version": "1.5.0",
            "_view_count": null,
            "_view_module_version": "1.2.0",
            "_model_module": "@jupyter-widgets/controls"
          }
        },
        "0656d54878fa40fcbd0532c7dc1fda3c": {
          "model_module": "@jupyter-widgets/base",
          "model_name": "LayoutModel",
          "model_module_version": "1.2.0",
          "state": {
            "_view_name": "LayoutView",
            "grid_template_rows": null,
            "right": null,
            "justify_content": null,
            "_view_module": "@jupyter-widgets/base",
            "overflow": null,
            "_model_module_version": "1.2.0",
            "_view_count": null,
            "flex_flow": null,
            "width": null,
            "min_width": null,
            "border": null,
            "align_items": null,
            "bottom": null,
            "_model_module": "@jupyter-widgets/base",
            "top": null,
            "grid_column": null,
            "overflow_y": null,
            "overflow_x": null,
            "grid_auto_flow": null,
            "grid_area": null,
            "grid_template_columns": null,
            "flex": null,
            "_model_name": "LayoutModel",
            "justify_items": null,
            "grid_row": null,
            "max_height": null,
            "align_content": null,
            "visibility": null,
            "align_self": null,
            "height": null,
            "min_height": null,
            "padding": null,
            "grid_auto_rows": null,
            "grid_gap": null,
            "max_width": null,
            "order": null,
            "_view_module_version": "1.2.0",
            "grid_template_areas": null,
            "object_position": null,
            "object_fit": null,
            "grid_auto_columns": null,
            "margin": null,
            "display": null,
            "left": null
          }
        }
      }
    },
    "accelerator": "GPU"
  },
  "cells": [
    {
      "cell_type": "code",
      "execution_count": 1,
      "metadata": {
        "id": "ZT2VPDHkxZa8",
        "colab": {
          "base_uri": "https://localhost:8080/"
        },
        "outputId": "12f7648c-a2fd-4e53-9d00-268b9a383db6"
      },
      "outputs": [
        {
          "output_type": "stream",
          "name": "stdout",
          "text": [
            "Cloning into 'dul_2021'...\n",
            "remote: Enumerating objects: 384, done.\u001b[K\n",
            "remote: Counting objects: 100% (221/221), done.\u001b[K\n",
            "remote: Compressing objects: 100% (146/146), done.\u001b[K\n",
            "remote: Total 384 (delta 125), reused 99 (delta 68), pack-reused 163\u001b[K\n",
            "Receiving objects: 100% (384/384), 55.90 MiB | 23.85 MiB/s, done.\n",
            "Resolving deltas: 100% (182/182), done.\n",
            "Processing ./dul_2021\n",
            "\u001b[33m  DEPRECATION: A future pip version will change local packages to be built in-place without first copying to a temporary directory. We recommend you use --use-feature=in-tree-build to test your packages with this new behavior before it becomes the default.\n",
            "   pip 21.3 will remove support for this functionality. You can find discussion regarding this at https://github.com/pypa/pip/issues/7555.\u001b[0m\n",
            "Building wheels for collected packages: dul-2021\n",
            "  Building wheel for dul-2021 (setup.py) ... \u001b[?25l\u001b[?25hdone\n",
            "  Created wheel for dul-2021: filename=dul_2021-0.1.0-py3-none-any.whl size=27640 sha256=cbb909974180e7bddc5795492a808ade251934ac5151aa2ffdb0c5bba42afe6b\n",
            "  Stored in directory: /tmp/pip-ephem-wheel-cache-0_ofj6zs/wheels/55/59/29/0fb1c635652157734f4d741f32fc11979149684e83e919de06\n",
            "Successfully built dul-2021\n",
            "Installing collected packages: dul-2021\n",
            "Successfully installed dul-2021-0.1.0\n"
          ]
        }
      ],
      "source": [
        "!if [ -d dul_2021 ]; then rm -Rf dul_2021; fi\n",
        "!git clone https://github.com/GrigoryBartosh/dul_2021\n",
        "!pip install ./dul_2021"
      ]
    },
    {
      "cell_type": "code",
      "source": [
        "from dul_2021.utils.hw10_utils import *"
      ],
      "metadata": {
        "id": "kvPNepG2L2Hp"
      },
      "execution_count": 2,
      "outputs": []
    },
    {
      "cell_type": "markdown",
      "source": [
        "# Question 1. Context Encoder"
      ],
      "metadata": {
        "id": "86iMf3mEPaCR"
      }
    },
    {
      "cell_type": "markdown",
      "metadata": {
        "id": "tRyHjNsSDzPY"
      },
      "source": [
        "Here we will implement [context encoder](https://arxiv.org/abs/1604.07379). The context encoder structures its self-supervised learning task by inpainting masked images. For example, the figure below shows different masking shapes, such as center masking, random block masking, and segmentation masking. Note that segmentation masking (c) is not purely self-supervised since we would need to train a image segmentation model which requires labels. However, the other two masking schemes (a) and (b) and purely self-supervised.\n",
        "\n",
        "![](https://drive.google.com/uc?id=1fhzkULYTtyMGUUF2n9dlPayJSdcY5pRv)\n",
        "\n",
        "More formally, the context encoder optimizes the following reconstruction loss:\n",
        "$$\\mathcal{L}_{rec} = \\left\\Vert \\hat{M} \\odot (x - F((1 - \\hat{M})\\odot x)) \\right\\Vert^2_2$$\n",
        "where $\\hat{M}$ is the masked region, $x$ is the image, and $F$ is the context encoder that tries to reconstruct the masked portion. In addition to the reconstruction loss, the paper introduces an adversarial loss that encourages more realistic inpaintings.\n",
        "$$L_{adv} = \\max_D \\mathbb{E}_{x\\in \\chi} [\\log(D(x)) + \\log(1 - D(F((1-\\hat{M})\\odot x)))]$$"
      ]
    },
    {
      "cell_type": "markdown",
      "source": [
        "In this task we will crop central 14x14 region. You can use slightly afjusted architectures from AVB task from homework 8.\n",
        "\n",
        "**Hyperparametrs**\n",
        "\n",
        "* latent_dim = 128\n",
        "* epochs ~ 10-20\n",
        "* classifier need fewer updates than encoder-decoder part. We suggest to update it on each 10-th iteration.\n",
        "\n",
        "**You will provide the following deliverables**\n",
        "\n",
        "\n",
        "1. Over the course of training, record the mse loss and adversarial losses per batch.\n",
        "3. 30 (1, 28, 28) images. Where first 10 images are random sample from testdata with removed central region. Next 10 images are reconstracted images with your trained model. Last 10 images are initial without any removal."
      ],
      "metadata": {
        "id": "uW2dsZBKEo8m"
      }
    },
    {
      "cell_type": "code",
      "source": [
        "import torch\n",
        "import torch.nn as nn\n",
        "import torch.nn.functional as F\n",
        "import torch.utils.data as data\n",
        "from torch.utils.data import Dataset, DataLoader\n",
        "import torch.optim as opt\n",
        "from torch.optim import Adam\n",
        "import numpy as np\n",
        "from torchvision.transforms.functional import rotate\n",
        "\n",
        "from tqdm.notebook import tqdm\n"
      ],
      "metadata": {
        "id": "DoWaeNBNdDvn"
      },
      "execution_count": 3,
      "outputs": []
    },
    {
      "cell_type": "code",
      "source": [
        "device = torch.device(\"cuda\" if torch.cuda.is_available() else \"cpu\")\n"
      ],
      "metadata": {
        "id": "NXuQ3wn6dTOJ"
      },
      "execution_count": 4,
      "outputs": []
    },
    {
      "cell_type": "code",
      "source": [
        "class Encoder(nn.Module):\n",
        "  def __init__(self, latent_dim):\n",
        "    super().__init__()\n",
        "    self.latent_dim = latent_dim\n",
        "\n",
        "    self.seq = nn.Sequential(nn.Conv2d(1, 32, 3, 1, 1),\n",
        "                              nn.ReLU(),\n",
        "                              nn.Conv2d(32, 64, 3, 2, 1),\n",
        "                              nn.ReLU(), \n",
        "                              nn.Conv2d(64, 128, 3, 2, 1), \n",
        "                              nn.ReLU(), \n",
        "                              nn.Conv2d(128, 128, 3, 2, 1), \n",
        "                              nn.ReLU())\n",
        "    self.linear = nn.Linear(4 * 4 * 128, self.latent_dim)\n",
        "  def forward(self, data):\n",
        "    data = self.seq(data).flatten(start_dim=1)\n",
        "    output = self.linear(data)\n",
        "    return output\n",
        "\n",
        "class Decoder(nn.Module):\n",
        "  def __init__(self, latent_dim):\n",
        "    super().__init__()\n",
        "    self.latent_dim = latent_dim\n",
        "\n",
        "    self.seq = nn.Sequential(nn.ConvTranspose2d(128, 128, 3, 2, 1), \n",
        "                              nn.ReLU(), \n",
        "                              nn.ConvTranspose2d(128, 64, 4, 2, 1), \n",
        "                              nn.ReLU(), \n",
        "                              nn.ConvTranspose2d(64, 32, 4, 2, 1), \n",
        "                              nn.ReLU(), \n",
        "                              nn.Conv2d(32, 1, 3, 1, 1),\n",
        "                              nn.Tanh())\n",
        "    self.linaer = nn.Sequential(nn.Linear(self.latent_dim, 4 * 4 * 128),\n",
        "                                nn.ReLU())\n",
        "  def forward(self, data):\n",
        "    data = self.linaer(data).view(-1, 128, 4, 4)\n",
        "    output = self.seq(data)\n",
        "    return output\n",
        "\n",
        "class D(nn.Module):\n",
        "  def __init__(self, hidden_dim): \n",
        "    super().__init__()\n",
        "    self.hidden_dim = hidden_dim\n",
        "    self.seq = nn.Sequential(nn.Conv2d(1, 32, 3, 1, 1),\n",
        "                              nn.ReLU(),\n",
        "                              nn.Conv2d(32, 64, 3, 2, 1),\n",
        "                              nn.ReLU(), \n",
        "                              nn.Conv2d(64, 128, 3, 2, 1), \n",
        "                              nn.ReLU(), \n",
        "                              nn.Conv2d(128, 128, 3, 2, 1), \n",
        "                              nn.ReLU())\n",
        "    self.linear = nn.Sequential(nn.Linear(4 * 4 * 128, self.hidden_dim), \n",
        "                                nn.ReLU(),\n",
        "                                nn.Linear(self.hidden_dim, self.hidden_dim), \n",
        "                                nn.ReLU(),\n",
        "                                nn.Linear(self.hidden_dim, 1),\n",
        "                                nn.Sigmoid())\n",
        "  def forward(self, data):\n",
        "    data = self.seq(data).flatten(start_dim=1)\n",
        "    output = self.linear(data)\n",
        "    return output \n",
        "    "
      ],
      "metadata": {
        "id": "ArG5l_Q3dmIF"
      },
      "execution_count": null,
      "outputs": []
    },
    {
      "cell_type": "code",
      "source": [
        "class Context_Encoder(nn.Module):\n",
        "  def __init__(self, latent_dim, hidden_dim):\n",
        "    super().__init__()\n",
        "    self.latent_dim = latent_dim\n",
        "    self.hidden_dim = hidden_dim\n",
        "    self.encoder = Encoder(self.latent_dim)\n",
        "    self.decoder = Decoder(self.latent_dim)\n",
        "    self.d = D(self.hidden_dim)\n",
        "  \n",
        "  def creat_mask(self, data, height=14, width=14):\n",
        "    size = data.shape[0]\n",
        "    h, w = data.shape[2], data.shape[3]\n",
        "\n",
        "    init_mask = torch.zeros_like(data)\n",
        "    diff_h = int(h - height)\n",
        "    diff_w = int(w - width)\n",
        "    random_h = np.full(size, diff_h // 2)\n",
        "    random_w = np.full(size, diff_w // 2)\n",
        "    for m, h, w in zip(init_mask, random_h, random_w):\n",
        "      m[:, h:h+height, w:w+width] = 1   \n",
        "    return init_mask\n",
        "\n",
        "  def forward(self, data):\n",
        "    data = self.encoder(data)\n",
        "    output = self.decoder(data)\n",
        "    return output\n",
        "\n",
        "  def get_loss(self, data):\n",
        "    data = data.to(device)\n",
        "    size = data.shape[0]\n",
        "    mask = self.creat_mask(data)\n",
        "    mask = mask.to(device)\n",
        "    x = (1 - mask) * data\n",
        "    recon_data = self.forward(x)\n",
        "    recon_data_copy = recon_data.clone().detach()\n",
        "\n",
        "    loss_record = mask * F.mse_loss(data, recon_data, reduction='none')\n",
        "    loss_record = loss_record.reshape(size, -1).mean(1)\n",
        "    loss_record = loss_record.mean()\n",
        "\n",
        "    d_real = self.d(data)\n",
        "    ones_real = torch.ones_like(d_real)\n",
        "    loss_real = F.binary_cross_entropy(d_real, ones_real)\n",
        "\n",
        "    d_fake_1 = self.d(recon_data)    \n",
        "    ones_fake = torch.ones_like(d_fake_1)\n",
        "    loss_fake_1 = F.binary_cross_entropy(d_fake_1, ones_fake)\n",
        "\n",
        "    loss_rec_desc = loss_record + loss_fake_1\n",
        "    loss_rec_desc = loss_rec_desc.mean()\n",
        "\n",
        "    d_fake_2 = self.d(recon_data_copy)\n",
        "    zeroes_fake = torch.zeros_like(d_fake_2)\n",
        "    loss_fake_2 = F.binary_cross_entropy(d_fake_2, zeroes_fake)\n",
        "\n",
        "    loss_adversarial = loss_real + loss_fake_2\n",
        "    loss_adversarial = loss_adversarial.mean()\n",
        "\n",
        "    return loss_record, loss_adversarial, loss_rec_desc\n",
        "\n",
        "  def fit(self, train_data, lr, epochs):\n",
        "    self.train()\n",
        "    mse_losses, adversarial_losses = [], []\n",
        "    list_params_encoder = list(self.encoder.parameters())\n",
        "    list_params_decoder = list(self.decoder.parameters())\n",
        "    optim_e_d = Adam(list_params_encoder + list_params_decoder, lr=lr)\n",
        "    optim_disc = Adam(self.d.parameters(), lr=lr)    \n",
        "\n",
        "    i = 1\n",
        "    for epoch in tqdm(range(epochs)):\n",
        "      for batch in train_data:\n",
        "        batch = batch.to(device)\n",
        "        loss_record, loss_adversarial, loss_rec_desc = self.get_loss(batch)\n",
        "\n",
        "        optim_e_d.zero_grad()\n",
        "        loss_rec_desc.backward()\n",
        "        optim_e_d.step()\n",
        "\n",
        "        if (i + 1) % 10 == 0:\n",
        "          optim_disc.zero_grad()\n",
        "          loss_adversarial.backward()\n",
        "          optim_disc.step()\n",
        "        i += 1\n",
        "\n",
        "        mse_losses.append(loss_record.item())\n",
        "        adversarial_losses.append(loss_adversarial.item())\n",
        "\n",
        "    mse_losses = np.array(mse_losses) \n",
        "    adversarial_losses = np.array(adversarial_losses)\n",
        "    return mse_losses, adversarial_losses\n",
        "\n",
        "  def get_reconstructions(self, sample_data):\n",
        "    with torch.no_grad():\n",
        "      data = sample_data.data.unsqueeze(1)\n",
        "      data = 2.0 * (data / 255.0) - 1.0\n",
        "      len_data = len(data)\n",
        "      part_data = data[np.random.choice(len_data, size=10, replace=False)]\n",
        "      self.eval()\n",
        "      data = torch.tensor(part_data)\n",
        "      data = data.to(device)\n",
        "      mask = self.creat_mask(data)\n",
        "      mask = mask.to(device)\n",
        "      x = (1 - mask) * data\n",
        "      data_forward = self.forward(x)\n",
        "\n",
        "      removed_central_region = x.cpu().numpy()\n",
        "      reconstracted_images = data_forward.cpu().numpy()\n",
        "      initial = data.cpu().numpy()\n",
        "      \n",
        "      combo = np.vstack((removed_central_region, reconstracted_images, initial))\n",
        "    return combo\n",
        "    "
      ],
      "metadata": {
        "id": "EU32SyP_1Gdv"
      },
      "execution_count": null,
      "outputs": []
    },
    {
      "cell_type": "code",
      "source": [
        "params = {'latent_dim': 128 ,\n",
        "          'hidden_dim': 128,\n",
        "          'batch_size': 128,\n",
        "          'num_epochs': 10,\n",
        "          'lr': 1e-3}\n",
        "          "
      ],
      "metadata": {
        "id": "dqnCbIooLmRr"
      },
      "execution_count": null,
      "outputs": []
    },
    {
      "cell_type": "code",
      "source": [
        "def q1(train_data, test_data):\n",
        "    \"\"\"\n",
        "    train_data: An (n_train, 1, 28, 28) torchvision dataset of MNIST images with values from -1 to 1\n",
        "    test_data: An (n_test, 1, 28, 28) torchvision dataset of MNIST images with values from -1 to 1\n",
        "\n",
        "    Returns\n",
        "    - a (# of training iterations, ) numpy array of full of mse losses\n",
        "    - a (# of training iterations, ) numpy array of full of adversarial losses\n",
        "    - a (30, 1, 28, 28) numpy array of 10 transformed images, 10 reconstructions, and 10 groundtruths\n",
        "    \"\"\"\n",
        "    train = train_data.data.unsqueeze(1) \n",
        "    train = 2.0 * (train / 255.0) - 1.0\n",
        "    train = DataLoader(train,\n",
        "                       batch_size=params['batch_size'],\n",
        "                       shuffle=True)\n",
        "    \n",
        "    model_CE = Context_Encoder(latent_dim=params['latent_dim'],\n",
        "                               hidden_dim=params['hidden_dim'])\n",
        "    model_CE = model_CE.to(device)\n",
        "    print('done with init')\n",
        "    mse_losses, adversarial_losses = model_CE.fit(train_data=train, \n",
        "                                                  lr=params['lr'], \n",
        "                                                  epochs=params['num_epochs'])\n",
        "    print('done with losses')\n",
        "    reconstructions = model_CE.get_reconstructions(test_data)\n",
        "    print('done with reconstruction')\n",
        "    return mse_losses, adversarial_losses, reconstructions\n",
        "    "
      ],
      "metadata": {
        "id": "lQnVUrB36iFT"
      },
      "execution_count": null,
      "outputs": []
    },
    {
      "cell_type": "code",
      "source": [
        "q1_results(q1)\n"
      ],
      "metadata": {
        "id": "3uQzNlV8bQMB",
        "colab": {
          "base_uri": "https://localhost:8080/",
          "height": 685,
          "referenced_widgets": [
            "04291ead15fb430c874141b2c16e682c",
            "23e28e758feb4d008d310a7d24812bf3",
            "6fc37ede241a45e488ce031d686d19e1",
            "cded13b6b6f74cd1ae1240d9acc05777",
            "16c8c5748d9a4e4b94f843a66f7a162a",
            "ff75ee045e194c2580523e377256b77d",
            "906296bf23f647ecb986b2f41e4d3342",
            "94cafa9e10a64c41bf0f64055d326de3",
            "7cd403b5b7d049d1a98776ce35c8dec7",
            "c78d2df8705e46ff96ee8db303da81a3",
            "98cb6c5166f849b992da10b035e51c86"
          ]
        },
        "outputId": "0ccbfea1-97f0-4682-f13a-9640f0f7ccd7"
      },
      "execution_count": null,
      "outputs": [
        {
          "output_type": "stream",
          "name": "stdout",
          "text": [
            "done with init\n"
          ]
        },
        {
          "output_type": "display_data",
          "data": {
            "application/vnd.jupyter.widget-view+json": {
              "model_id": "04291ead15fb430c874141b2c16e682c",
              "version_minor": 0,
              "version_major": 2
            },
            "text/plain": [
              "  0%|          | 0/10 [00:00<?, ?it/s]"
            ]
          },
          "metadata": {}
        },
        {
          "output_type": "stream",
          "name": "stdout",
          "text": [
            "done with losses\n",
            "done with reconstruction\n"
          ]
        },
        {
          "output_type": "stream",
          "name": "stderr",
          "text": [
            "/usr/local/lib/python3.7/dist-packages/ipykernel_launcher.py:103: UserWarning: To copy construct from a tensor, it is recommended to use sourceTensor.clone().detach() or sourceTensor.clone().detach().requires_grad_(True), rather than torch.tensor(sourceTensor).\n"
          ]
        },
        {
          "output_type": "display_data",
          "data": {
            "image/png": "[encoded data removed]",
            "text/plain": [
              "<Figure size 432x288 with 1 Axes>"
            ]
          },
          "metadata": {
            "needs_background": "light"
          }
        },
        {
          "output_type": "display_data",
          "data": {
            "image/png": "[encoded data removed]",
            "text/plain": [
              "<Figure size 1080x1080 with 1 Axes>"
            ]
          },
          "metadata": {
            "needs_background": "light"
          }
        }
      ]
    },
    {
      "cell_type": "markdown",
      "source": [
        "# Question 2. Rotations Prediction"
      ],
      "metadata": {
        "id": "W6LVLHMMjzVL"
      }
    },
    {
      "cell_type": "markdown",
      "source": [
        "Here we will imlement this [paper](https://arxiv.org/abs/1803.07728). Here, model learns good representations for downstream tasks by proxy task of prediciting rotation of the original image.\n",
        "\n",
        "![](https://drive.google.com/uc?id=1eHXLH-N_6uMGRzdf1Wjnga26qlS5-FRv)\n",
        "\n",
        "We will work with same rotations as in paper (0, 90, 180, 270). You can use architecture AVB task in hw8. Latent dim 128 and 10 epochs should be enough.\n",
        "\n",
        "**You will provide the following deliverables**\n",
        "\n",
        "\n",
        "1. Over the course of training, record the loss per batch.\n",
        "2. Over the course of training, record the accuracy score for each iteration.\n",
        "\n",
        "\n"
      ],
      "metadata": {
        "id": "TUP2DAeeIK0F"
      }
    },
    {
      "cell_type": "code",
      "source": [
        "class Classification(nn.Module):\n",
        "  def __init__(self, hidden_dim, num_classes):\n",
        "    super().__init__()\n",
        "    self.hidden_dim = hidden_dim\n",
        "    self.num_classes = num_classes\n",
        "    self.seq = nn.Sequential(nn.Conv2d(1, 32, 3, 1, 1),\n",
        "                              nn.ReLU(),\n",
        "                              nn.Conv2d(32, 64, 3, 2, 1),\n",
        "                              nn.ReLU(), \n",
        "                              nn.Conv2d(64, 128, 3, 2, 1), \n",
        "                              nn.ReLU(), \n",
        "                              nn.Conv2d(128, 128, 3, 2, 1), \n",
        "                              nn.ReLU())\n",
        "    self.linear = nn.Sequential(nn.Linear(4 * 4 * 128, self.hidden_dim), \n",
        "                                nn.ReLU(),\n",
        "                                nn.Linear(self.hidden_dim, self.hidden_dim), \n",
        "                                nn.ReLU(),\n",
        "                                nn.Linear(self.hidden_dim, self.num_classes))\n",
        "  def forward(self, data):\n",
        "    size = data.shape[0]\n",
        "    output = self.seq(data)\n",
        "    output = output.flatten(start_dim=1)\n",
        "    output = self.linear(output)\n",
        "    return output\n"
      ],
      "metadata": {
        "id": "y70Dc-NtBZrl"
      },
      "execution_count": 5,
      "outputs": []
    },
    {
      "cell_type": "code",
      "source": [
        "class Rotations_Prediction(nn.Module):\n",
        "  def __init__(self, hidden_dim, num_classes):\n",
        "    super().__init__()\n",
        "    self.hidden_dim = hidden_dim\n",
        "    self.num_classes = num_classes\n",
        "    self.classifier = Classification(self.hidden_dim, self.num_classes)\n",
        "\n",
        "  def fit(self, train_data, num_epochs, lr):\n",
        "    self.train()    \n",
        "    optimizer = Adam(self.parameters(), lr=lr)\n",
        "    loss_per_batch, accuracy_score = [], []\n",
        "\n",
        "    for epoch in tqdm(range(num_epochs)):\n",
        "      n = 0\n",
        "      acc = 0\n",
        "      for batch, target in train_data:\n",
        "        batch = batch.to(device)\n",
        "        size = batch.shape[0]\n",
        "        n += size\n",
        "\n",
        "        target = target.to(device)\n",
        "        target_hat = self.classifier(batch)\n",
        "\n",
        "        current_loss = F.cross_entropy(target_hat, target)\n",
        "        current_loss = current_loss.mean()\n",
        "        current_accuracy = (torch.argmax(target_hat, 1) == target).sum()\n",
        "        acc += current_accuracy.item()\n",
        "\n",
        "        optimizer.zero_grad()\n",
        "        current_loss.backward()\n",
        "        optimizer.step()\n",
        "\n",
        "        loss_per_batch.append(current_loss.item())  \n",
        "      score = acc / n\n",
        "      accuracy_score.append(score)\n",
        "\n",
        "    loss_per_batch = np.array(loss_per_batch)\n",
        "    accuracy_score = np.array(accuracy_score)\n",
        "\n",
        "    return loss_per_batch, accuracy_score\n"
      ],
      "metadata": {
        "id": "ob1SlKxNCxu9"
      },
      "execution_count": 14,
      "outputs": []
    },
    {
      "cell_type": "code",
      "source": [
        "class Dataset_for_Rotations_Prediction(Dataset):\n",
        "  def __init__(self, data, angles):\n",
        "    super().__init__()\n",
        "    self.data = data\n",
        "    self.angles = angles\n",
        "\n",
        "  def __getitem__(self, id):\n",
        "    count_angles = len(self.angles)\n",
        "    random_angle = np.random.randint(0, count_angles)\n",
        "    choose_angle = self.angles[random_angle]\n",
        "    data_with_angle = rotate(self.data[id][0], choose_angle)\n",
        "    return data_with_angle, random_angle\n",
        "\n",
        "  def __len__(self):\n",
        "    length = len(self.data)\n",
        "    return length\n"
      ],
      "metadata": {
        "id": "SOBYWs2lKY_9"
      },
      "execution_count": 11,
      "outputs": []
    },
    {
      "cell_type": "code",
      "source": [
        "params = {'latent_dim': 128,\n",
        "          'hidden_dim': 128,\n",
        "          'num_epochs': 10,\n",
        "          'num_classes': 4,\n",
        "          'lr': 1e-3,\n",
        "          'angles': (0, 90, 180, 270),\n",
        "          'batch_size': 256}\n",
        "          "
      ],
      "metadata": {
        "id": "mZcGsBepevSu"
      },
      "execution_count": 8,
      "outputs": []
    },
    {
      "cell_type": "code",
      "source": [
        "def q2(train_data):\n",
        "    \"\"\"\n",
        "    train_data: An (n_train, 1, 28, 28) torchvision dataset of MNIST images with values from -1 to 1\n",
        "    Returns\n",
        "    - a (# of training iterations, ) numpy array of full of losses\n",
        "    - a (# of training epochs, ) numpy array of full of accuracy scores\n",
        "    \"\"\"\n",
        "    train = Dataset_for_Rotations_Prediction(data=train_data, \n",
        "                                             angles=params['angles'])\n",
        "    train = DataLoader(train,\n",
        "                       batch_size=params['batch_size'],\n",
        "                       shuffle=True)\n",
        "    model_RP = Rotations_Prediction(hidden_dim=params['hidden_dim'], \n",
        "                                    num_classes=params['num_classes'])\n",
        "    model_RP = model_RP.to(device)\n",
        "    print('done with init')\n",
        "    loss_per_batch, accuracy_score = model_RP.fit(train, \n",
        "                                                  num_epochs=params['num_epochs'], \n",
        "                                                  lr=params['lr'])\n",
        "    print('done with losses and accuracy')\n",
        "    return loss_per_batch, accuracy_score\n",
        "    "
      ],
      "metadata": {
        "id": "_YSch41UKy2g"
      },
      "execution_count": 15,
      "outputs": []
    },
    {
      "cell_type": "code",
      "source": [
        "q2_results(q2)\n"
      ],
      "metadata": {
        "id": "VIpLkvcU39ib",
        "colab": {
          "base_uri": "https://localhost:8080/",
          "height": 640,
          "referenced_widgets": [
            "776d1daef4dd4f63bc0fdb857083f52d",
            "47c3a71ae4484235923537684f7cd41a",
            "8feca4892be249f8ac8ad20d5d0da2f4",
            "32ff12bd6a934953a8e3a8f7073f999c",
            "17681ec0bfc84d7cb28ed1f90796823b",
            "68082a7c692b41869e02a8a9d0d23c2e",
            "48aac2dd85034094b27b5c0a357f1bf1",
            "29f894158c754df3a595908928bcc6b9",
            "449421a8df2a458bbaaf3e7c6118a632",
            "2dec5aa16a094f29a6c8859bd8f209ce",
            "0656d54878fa40fcbd0532c7dc1fda3c"
          ]
        },
        "outputId": "405ac312-fc22-4a75-af3f-89b5f480aabb"
      },
      "execution_count": 17,
      "outputs": [
        {
          "output_type": "stream",
          "name": "stdout",
          "text": [
            "done with init\n"
          ]
        },
        {
          "output_type": "display_data",
          "data": {
            "application/vnd.jupyter.widget-view+json": {
              "model_id": "776d1daef4dd4f63bc0fdb857083f52d",
              "version_minor": 0,
              "version_major": 2
            },
            "text/plain": [
              "  0%|          | 0/10 [00:00<?, ?it/s]"
            ]
          },
          "metadata": {}
        },
        {
          "output_type": "stream",
          "name": "stdout",
          "text": [
            "done with losses and accuracy\n"
          ]
        },
        {
          "output_type": "display_data",
          "data": {
            "image/png": "[encoded data removed]",
            "text/plain": [
              "<Figure size 432x288 with 1 Axes>"
            ]
          },
          "metadata": {
            "needs_background": "light"
          }
        },
        {
          "output_type": "display_data",
          "data": {
            "image/png": "[encoded data removed]",
            "text/plain": [
              "<Figure size 432x288 with 1 Axes>"
            ]
          },
          "metadata": {
            "needs_background": "light"
          }
        }
      ]
    }
  ]
}